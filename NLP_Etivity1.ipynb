{
  "nbformat": 4,
  "nbformat_minor": 0,
  "metadata": {
    "colab": {
      "provenance": [],
      "authorship_tag": "ABX9TyMLx1PBoaqBsDrKPkGC26mb",
      "include_colab_link": true
    },
    "kernelspec": {
      "name": "python3",
      "display_name": "Python 3"
    },
    "language_info": {
      "name": "python"
    }
  },
  "cells": [
    {
      "cell_type": "markdown",
      "metadata": {
        "id": "view-in-github",
        "colab_type": "text"
      },
      "source": [
        "<a href=\"https://colab.research.google.com/github/thendralbala/UL_MSc_AI_and_ML/blob/main/NLP_Etivity1.ipynb\" target=\"_parent\"><img src=\"https://colab.research.google.com/assets/colab-badge.svg\" alt=\"Open In Colab\"/></a>"
      ]
    },
    {
      "cell_type": "markdown",
      "source": [
        "#Task 1.1"
      ],
      "metadata": {
        "id": "onYFOfy6E-Ml"
      }
    },
    {
      "cell_type": "markdown",
      "source": [
        "**Approach:**\n",
        "The eircodeValidator function is designed to assess the validity of an Eircode string. It first removes any extraneous leading or trailing whitespace from the input Eircode. Next, it employs a regular expression pattern to match the Eircode against the expected structure, capturing the Routing Key (the first three characters) and the Unique Identifier (the last four characters). Based on the match result, the function determines the Eircode's validity. If valid, it extracts and displays both the Routing Key and the Unique Identifier, proceeding to search for the Routing Key within the KeyRouteDict. If found, it reveals the associated value from the dictionary; otherwise, it indicates that the Routing Key is absent in the KeyRouteDict. Conversely, if the Eircode fails the regex validation, the function declares it invalid and returns None.\n",
        "\n",
        "**Dictionary vs. Tuple for Search**\n",
        "\n",
        "The decision to utilize a dictionary (KeyRouteDict) instead of the original tuple-based KeyRouteList for searching the Routing Key stems from a need for optimized efficiency. Dictionaries in Python are implemented using hash tables, granting them the ability to retrieve values using keys with remarkable speed. This means searching for a specific key within a dictionary generally takes a constant amount of time, irrespective of the dictionary's size. In contrast, searching for a particular Routing Key in a list of tuples like KeyRouteList would necessitate iterating through each tuple and comparing its first element (the Routing Key) to the target key. This linear search approach is less efficient, as the search time directly correlates with the number of tuples in the list.\n",
        "\n",
        "Therefore, by adopting a dictionary for the Routing Key search, the code achieves a substantial performance boost, especially when handling extensive datasets like the Eircode list. This data structure enables swift and effective retrieval of information associated with a given Routing Key"
      ],
      "metadata": {
        "id": "Y_emvjtKFUnc"
      }
    },
    {
      "cell_type": "code",
      "execution_count": 1,
      "metadata": {
        "colab": {
          "base_uri": "https://localhost:8080/"
        },
        "id": "dLjWJhDE4Vfg",
        "outputId": "1c43b220-e39d-4b64-f83d-0a84c4f86ffe"
      },
      "outputs": [
        {
          "output_type": "stream",
          "name": "stdout",
          "text": [
            "--2025-01-08 12:27:55--  https://gist.githubusercontent.com/ajoorabchi/eac194a79dd26de8864f9206b7842ff1/raw/8ea1d8d5f74b5b2724e378b43d4df6094990c7db/Eircode%2520Routing%2520Key%2520Boundaries.csv\n",
            "Resolving gist.githubusercontent.com (gist.githubusercontent.com)... 185.199.110.133, 185.199.111.133, 185.199.109.133, ...\n",
            "Connecting to gist.githubusercontent.com (gist.githubusercontent.com)|185.199.110.133|:443... connected.\n",
            "HTTP request sent, awaiting response... 200 OK\n",
            "Length: 1934 (1.9K) [text/plain]\n",
            "Saving to: ‘Eircode Routing Key Boundaries.csv’\n",
            "\n",
            "Eircode Routing Key 100%[===================>]   1.89K  --.-KB/s    in 0s      \n",
            "\n",
            "2025-01-08 12:27:56 (16.6 MB/s) - ‘Eircode Routing Key Boundaries.csv’ saved [1934/1934]\n",
            "\n",
            "[('ROUTING KEY', 'DESCRIPTOR'), ('A41', 'BALLYBOUGHAL'), ('A42', 'GARRISTOWN'), ('A45', 'OLDTOWN'), ('A63', 'GREYSTONES'), ('A67', 'WICKLOW'), ('A75', 'CASTLEBLAYNEY'), ('A81', 'CARRICKMACROSS'), ('A82', 'KELLS'), ('A83', 'ENFIELD'), ('A84', 'ASHBOURNE'), ('A85', 'DUNSHAUGHLIN'), ('A86', 'DUNBOYNE'), ('A91', 'DUNDALK'), ('A92', 'DROGHEDA'), ('A94', 'BLACKROCK'), ('A96', 'GLENAGEARY'), ('A98', 'BRAY'), ('C15', 'NAVAN'), ('D01', 'DUBLIN 1'), ('D02', 'DUBLIN 2'), ('D03', 'DUBLIN 3'), ('D04', 'DUBLIN 4'), ('D05', 'DUBLIN 5'), ('D06', 'DUBLIN 6'), ('D07', 'DUBLIN 7'), ('D08', 'DUBLIN 8'), ('D09', 'DUBLIN 9'), ('D10', 'DUBLIN 10'), ('D11', 'DUBLIN 11'), ('D12', 'DUBLIN 12'), ('D13', 'DUBLIN 13'), ('D14', 'DUBLIN 14'), ('D15', 'DUBLIN 15'), ('D16', 'DUBLIN 16'), ('D17', 'DUBLIN 17'), ('D18', 'DUBLIN 18'), ('D20', 'DUBLIN 20'), ('D22', 'DUBLIN 22'), ('D24', 'DUBLIN 24'), ('D6W', 'DUBLIN 6W'), ('E21', 'CAHIR'), ('E25', 'CASHEL'), ('E32', 'CARRICK-ON-SUIR'), ('E34', 'TIPPERARY'), ('E41', 'THURLES'), ('E45', 'NENAGH'), ('E53', 'ROSCREA'), ('E91', 'CLONMEL'), ('F12', 'CLAREMORRIS'), ('F23', 'CASTLEBAR'), ('F26', 'BALLINA'), ('F28', 'WESTPORT'), ('F31', 'BALLINROBE'), ('F35', 'BALLYHAUNIS'), ('F42', 'ROSCOMMON'), ('F45', 'CASTLEREA'), ('F52', 'BOYLE'), ('F56', 'BALLYMOTE'), ('F91', 'SLIGO'), ('F92', 'LETTERKENNY'), ('F93', 'LIFFORD'), ('F94', 'DONEGAL'), ('H12', 'CAVAN'), ('H14', 'BELTURBET'), ('H16', 'COOTEHILL'), ('H18', 'MONAGHAN'), ('H23', 'CLONES'), ('H53', 'BALLINASLOE'), ('H54', 'TUAM'), ('H62', 'LOUGHREA'), ('H65', 'ATHENRY'), ('H71', 'CLIFDEN'), ('H91', 'GALWAY'), ('K32', 'BALBRIGGAN'), ('K34', 'SKERRIES'), ('K36', 'MALAHIDE'), ('K45', 'LUSK'), ('K56', 'RUSH'), ('K67', 'SWORDS'), ('K78', 'LUCAN'), ('N37', 'ATHLONE'), ('N39', 'LONGFORD'), ('N41', 'CARRICK-ON-SHANNON'), ('N91', 'MULLINGAR'), ('P12', 'MACROOM'), ('P14', 'CORK - CROOKSTOWN'), ('P17', 'KINSALE'), ('P24', 'COBH'), ('P25', 'MIDLETON'), ('P31', 'BALLINCOLLIG'), ('P32', 'CORK - DONOUGHMORE'), ('P36', 'YOUGHAL'), ('P43', 'CARRIGALINE'), ('P47', 'CORK - DUNMANWAY'), ('P51', 'MALLOW'), ('P56', 'CHARLEVILLE'), ('P61', 'FERMOY'), ('P67', 'MITCHELSTOWN'), ('P72', 'BANDON'), ('P75', 'BANTRY'), ('P81', 'SKIBBEREEN'), ('P85', 'CLONAKILTY'), ('R14', 'ATHY'), ('R21', 'MUINE BHEAG'), ('R32', 'PORTLAOISE'), ('R35', 'TULLAMORE'), ('R42', 'BIRR'), ('R45', 'EDENDERRY'), ('R51', 'KILDARE'), ('R56', 'CURRAGH CAMP'), ('R93', 'CARLOW'), ('R95', 'KILKENNY'), ('T12', 'CORK - BALLINHASSIG'), ('T23', 'CORK - BLARNEY'), ('T34', 'CORK - WHITECHURCH'), ('T45', 'LITTLE ISLAND'), ('T56', 'CORK - WATERGRASSHILL'), ('V14', 'SHANNON'), ('V15', 'KILRUSH'), ('V23', 'CAHERCIVEEN'), ('V31', 'LISTOWEL'), ('V35', 'KILMALLOCK'), ('V42', 'NEWCASTLE WEST'), ('V92', 'TRALEE'), ('V93', 'KILLARNEY'), ('V94', 'LIMERICK'), ('V95', 'ENNIS'), ('W12', 'NEWBRIDGE'), ('W23', 'MAYNOOTH'), ('W34', 'MONASTEREVIN'), ('W91', 'NAAS'), ('X35', 'DUNGARVAN'), ('X42', 'KILMACTHOMAS'), ('X91', 'WATERFORD'), ('Y14', 'ARKLOW'), ('Y21', 'ENNISCORTHY'), ('Y25', 'GOREY'), ('Y34', 'NEW ROSS'), ('Y35', 'WEXFORD')]\n"
          ]
        }
      ],
      "source": [
        "import re   # import re library for regex\n",
        "import csv  # import csv library to handle the Eircode CSV file\n",
        "\n",
        "\n",
        "# use the linux command wget to donwload the CSV file\n",
        "!wget https://gist.githubusercontent.com/ajoorabchi/eac194a79dd26de8864f9206b7842ff1/raw/8ea1d8d5f74b5b2724e378b43d4df6094990c7db/Eircode%2520Routing%2520Key%2520Boundaries.csv\n",
        "filePath = \"/content/Eircode Routing Key Boundaries.csv\" # set the path for the donwloaded CSV file\n",
        "\n",
        "\n",
        "with open(filePath, 'r') as f:\n",
        "    reader = csv.reader(f)\n",
        "    KeyRouteList = list(map(tuple, reader)) #the map function iterates through the rows in the CSV file and puts them in tuples. The tuples are then added to the KeyRouteList    [(k0,d0), ...,(kx,dx)]\n",
        "print(KeyRouteList)\n",
        "\n",
        "\n"
      ]
    },
    {
      "cell_type": "code",
      "source": [
        "KeyRouteDict = {key: value for key, value in KeyRouteList}"
      ],
      "metadata": {
        "id": "MiRlTkpqDxPj"
      },
      "execution_count": 63,
      "outputs": []
    },
    {
      "cell_type": "code",
      "source": [
        "def eircodeValidator(eircode):\n",
        "  eircode = eircode.strip()\n",
        "  eircode_regex = r\"([A-Z0-9]{3})[- ]?([A-Z0-9]{4}$)\"\n",
        "\n",
        "  match = re.match(eircode_regex, eircode)\n",
        "  print(f\"------------------------------------------------\\nEIR Code: {eircode}\")\n",
        "\n",
        "  if match:\n",
        "    r_key = match.group(1).strip()\n",
        "    u_id = match.group(2)\n",
        "    print(f\"Valid Eircode pattern, Routing Key= {r_key}, Unique Identifier = {u_id}\")\n",
        "\n",
        "    if r_key in KeyRouteDict:\n",
        "      print(f\"Destination = {KeyRouteDict[r_key]}\")\n",
        "    else:\n",
        "      print(f\"{r_key} is a valid but unassigned routing key\")\n",
        "      return None\n",
        "\n",
        "  else:\n",
        "    print(\"Invalid Eircode pattern\")\n",
        "    return None\n",
        "\n",
        "\n",
        "\n",
        "\n"
      ],
      "metadata": {
        "id": "z3z-j7gk4oKi"
      },
      "execution_count": 64,
      "outputs": []
    },
    {
      "cell_type": "code",
      "source": [
        "eircodeValidator(\"111-T9PX\")\n",
        "eircodeValidator(\"V94-T9PX\")\n",
        "eircodeValidator(\"V94 T9PX\")\n",
        "eircodeValidator(\"V94T9PX\")\n",
        "eircodeValidator(\"   V94-T9PX\")\n",
        "eircodeValidator(\"V94-T9PX   \")\n",
        "eircodeValidator(\"v94 T9PX\")\n",
        "eircodeValidator(\"V94T9PXV\")"
      ],
      "metadata": {
        "colab": {
          "base_uri": "https://localhost:8080/"
        },
        "id": "mvx6vwpC42u0",
        "outputId": "d7c6ed86-8721-4b09-e424-332f5ba57de4"
      },
      "execution_count": 65,
      "outputs": [
        {
          "output_type": "stream",
          "name": "stdout",
          "text": [
            "------------------------------------------------\n",
            "EIR Code: 111-T9PX\n",
            "Valid Eircode pattern, Routing Key= 111, Unique Identifier = T9PX\n",
            "111 is a valid but unassigned routing key\n",
            "------------------------------------------------\n",
            "EIR Code: V94-T9PX\n",
            "Valid Eircode pattern, Routing Key= V94, Unique Identifier = T9PX\n",
            "Destination = LIMERICK\n",
            "------------------------------------------------\n",
            "EIR Code: V94 T9PX\n",
            "Valid Eircode pattern, Routing Key= V94, Unique Identifier = T9PX\n",
            "Destination = LIMERICK\n",
            "------------------------------------------------\n",
            "EIR Code: V94T9PX\n",
            "Valid Eircode pattern, Routing Key= V94, Unique Identifier = T9PX\n",
            "Destination = LIMERICK\n",
            "------------------------------------------------\n",
            "EIR Code: V94-T9PX\n",
            "Valid Eircode pattern, Routing Key= V94, Unique Identifier = T9PX\n",
            "Destination = LIMERICK\n",
            "------------------------------------------------\n",
            "EIR Code: V94-T9PX\n",
            "Valid Eircode pattern, Routing Key= V94, Unique Identifier = T9PX\n",
            "Destination = LIMERICK\n",
            "------------------------------------------------\n",
            "EIR Code: v94 T9PX\n",
            "Invalid Eircode pattern\n",
            "------------------------------------------------\n",
            "EIR Code: V94T9PXV\n",
            "Invalid Eircode pattern\n"
          ]
        }
      ]
    },
    {
      "cell_type": "markdown",
      "source": [
        "#Task 1.2"
      ],
      "metadata": {
        "id": "eE1i9bQ5FMNS"
      }
    },
    {
      "cell_type": "markdown",
      "source": [
        "**Approach:**\n",
        "\n",
        "The contactsExtractor function is designed to efficiently identify and retrieve contact information from a given text source, such as an email or document. It accomplishes this by employing regular expressions, which are patterns used to match various types of contact details like phone numbers, email addresses, and potentially other relevant information. These regex patterns are applied to the input text to locate and extract matching contact data. The function then typically organizes the extracted contacts into a structured format, often a list of dictionaries where each dictionary represents a specific contact with its type (e.g., \"phone,\" \"email\") and corresponding value. This approach centralizes the contact extraction logic, promoting code organization, reusability, and adaptability to accommodate new contact formats or types. Moreover, it contributes to data consistency and quality by ensuring uniformity in the extraction process."
      ],
      "metadata": {
        "id": "Ot5KFTUWKfNR"
      }
    },
    {
      "cell_type": "code",
      "source": [
        "import re   # import re library for regex\n",
        "!pip install html2text\n",
        "import html2text # import html2text library to convert and extract the text content of the HTML file\n",
        "\n",
        "\n",
        "!wget https://www.ul.ie/contact-information # Use the Linux command wget to download the webpage\n",
        "filePath = \"/content/contact-information\" # Set the path for the downloaded HTML file\n",
        "contact_information_file = open(filePath, \"r\")\n",
        "contact_information_html = contact_information_file.read()\n",
        "contact_information_text = html2text.html2text(contact_information_html)\n",
        "print(contact_information_text) #uncomment to see the text content of the page\n",
        "\n",
        "\n",
        "\n"
      ],
      "metadata": {
        "colab": {
          "base_uri": "https://localhost:8080/"
        },
        "collapsed": true,
        "id": "LNNv5mpGFf_3",
        "outputId": "e8bab6bb-1348-4e95-8a37-29b1d1f674eb"
      },
      "execution_count": 66,
      "outputs": [
        {
          "output_type": "stream",
          "name": "stdout",
          "text": [
            "Collecting html2text\n",
            "  Downloading html2text-2024.2.26.tar.gz (56 kB)\n",
            "\u001b[?25l     \u001b[90m━━━━━━━━━━━━━━━━━━━━━━━━━━━━━━━━━━━━━━━━\u001b[0m \u001b[32m0.0/56.5 kB\u001b[0m \u001b[31m?\u001b[0m eta \u001b[36m-:--:--\u001b[0m\r\u001b[2K     \u001b[90m━━━━━━━━━━━━━━━━━━━━━━━━━━━━━━━━━━━━━━━━\u001b[0m \u001b[32m56.5/56.5 kB\u001b[0m \u001b[31m2.1 MB/s\u001b[0m eta \u001b[36m0:00:00\u001b[0m\n",
            "\u001b[?25h  Preparing metadata (setup.py) ... \u001b[?25l\u001b[?25hdone\n",
            "Building wheels for collected packages: html2text\n",
            "  Building wheel for html2text (setup.py) ... \u001b[?25l\u001b[?25hdone\n",
            "  Created wheel for html2text: filename=html2text-2024.2.26-py3-none-any.whl size=33111 sha256=5496f3b29ba6341cd0015feb054a7626cb4a6e93a2fa128233af6ac58ce2faf9\n",
            "  Stored in directory: /root/.cache/pip/wheels/f3/96/6d/a7eba8f80d31cbd188a2787b81514d82fc5ae6943c44777659\n",
            "Successfully built html2text\n",
            "Installing collected packages: html2text\n",
            "Successfully installed html2text-2024.2.26\n",
            "--2025-01-08 13:24:28--  https://www.ul.ie/contact-information\n",
            "Resolving www.ul.ie (www.ul.ie)... 151.101.194.216, 151.101.130.216, 151.101.66.216, ...\n",
            "Connecting to www.ul.ie (www.ul.ie)|151.101.194.216|:443... connected.\n",
            "HTTP request sent, awaiting response... 200 OK\n",
            "Length: 80861 (79K) [text/html]\n",
            "Saving to: ‘contact-information’\n",
            "\n",
            "contact-information 100%[===================>]  78.97K  --.-KB/s    in 0.03s   \n",
            "\n",
            "2025-01-08 13:24:29 (2.80 MB/s) - ‘contact-information’ saved [80861/80861]\n",
            "\n",
            "Skip to main content\n",
            "\n",
            "[![UL Logo | Home](/themes/custom/ul/logo.svg)](/)\n",
            "\n",
            "Site search\n",
            "\n",
            "Search\n",
            "\n",
            "  * Follow Us\n",
            "\n",
            "    * [ Follow University of Limerick on Facebook  ](https://www.facebook.com/universityoflimerick)\n",
            "    * [ Follow University of Limerick on X/Twitter  ](https://twitter.com/ul)\n",
            "    * [ Follow University of Limerick on Instagram  ](https://www.instagram.com/universityoflimerick/)\n",
            "    * [ Follow University of Limerick on LinkedIn  ](https://www.linkedin.com/company/university-of-limerick)\n",
            "    * [ Follow University of Limerick on YouTube  ](https://www.youtube.com/user/UniversityofLimerick)\n",
            "    * [ Follow University of Limerick on TikTok  ](https://www.tiktok.com/@universityoflimerick)\n",
            "\n",
            "  * Search University of Limerick website\n",
            "  * \n",
            "\n",
            "## Global Navigation\n",
            "\n",
            "  * [Library](https://www.ul.ie/library)\n",
            "  * [Student Gateway](/students)\n",
            "  * [Staff Gateway](/staff)\n",
            "  * [A-Z Directory](/about-ul/directory-of-services)\n",
            "  * [Campus Phone Directory](https://ul.workvivo.com/directory/people)\n",
            "  * [Contact UL](/contact-information)\n",
            "\n",
            "## Group Main Menu\n",
            "\n",
            "  * [Home](/group/8)\n",
            "  * [Study at UL](/study \"UL Courses\")\n",
            "    * [Undergraduate](/courses \"Undergraduate information\")\n",
            "    * [Postgraduate](/gps \"Postgraduate information\")\n",
            "    * [Postgraduate Research](/research/doctoral-college \"Doctoral College | Postgraduate Research\")\n",
            "    * [International](/global \"International students\")\n",
            "    * [Alternative Routes to UL](https://www.ul.ie/academic-registry/prospective-students/pathways-ul)\n",
            "    * [Mature Student Office](/student-affairs/mature-students-office)\n",
            "    * [Access Office](/student-affairs/access-office)\n",
            "    * [Professional Studies](/gps/professionalflexible-programmes \"Professional Studies\")\n",
            "    * [Springboard +](/gps/springboard-courses \"SpringBoard Initiative\")\n",
            "    * [Micro-credentials](/gps/microcredentials \"Micro-Credential courses\")\n",
            "    * [Apply to UL](/study-ul/apply-ul \"Applying to UL\")\n",
            "    * [Academic Calendar](/academic-registry/academic-calendar)\n",
            "    * [Fees](/finance/our-services/student-fees \"Course fees\")\n",
            "    * [University of Sanctuary](/courses/ul-university-sanctuary)\n",
            "    * [Limerick's Student City](/courses/about-ul/limericks-student-city)\n",
            "    * [Orientation](/study-ul/orientation)\n",
            "    * [Virtual Tour](https://www.youvisit.com/tour/139046/143553?pl=v&from=embed-js-failed)\n",
            "  * [Faculties and Departments](/faculties-and-departments \"Faculties and Departments at UL\")\n",
            "    * [Arts, Humanities and Social Sciences](/artsoc \"Faculty of Arts, Humanities and Social Sciences\")\n",
            "      * [School of History and Geography](/artsoc/history-geography \"School of History and Geography\")\n",
            "      * [School of Law](https://www.ul.ie/artsoc/law \"School of Law\")\n",
            "      * [Modern Languages and Applied Linguistics](/artsoc/mlal)\n",
            "      * [Politics and Public Administration](/artsoc/schools-and-departments/politics-and-public-administration)\n",
            "      * [School of English, Irish, and Communication](https://www.ul.ie/artsoc/seic)\n",
            "      * [Sociology](/artsoc/sociology)\n",
            "    * [Education and Health Sciences](/ehs \"Faculty of Education and Health Sciences\")\n",
            "      * [Physical Education and Sport Sciences](/ehs/pess)\n",
            "      * [Psychology](/psychology)\n",
            "      * [School of Medicine](/ehs/medicine \"School of Medicine\")\n",
            "      * [School of Education](https://www.ul.ie/soedu)\n",
            "      * [School of Nursing and Midwifery](/nursing-midwifery)\n",
            "      * [School of Allied Health](/ehs/school-allied-health \"School of Allied Health\")\n",
            "    * [Kemmy Business School](/business \"Kemmy Business School\")\n",
            "      * [Accounting and Finance](/business/departments/department-accounting-and-finance)\n",
            "      * [Economics](/business/departments/department-economics)\n",
            "      * [Management and Marketing](/business/departments/department-management-and-marketing)\n",
            "      * [Work and Employment Studies](/business/departments/department-work-and-employment-studies-0)\n",
            "    * [Science and Engineering](/scieng \"Faculty of Science and Engineering\")\n",
            "      * [Computer Science and Information Systems](/scieng/schools-and-departments/department-computer-science-and-information-systems)\n",
            "      * [Electronic and Computer Engineering](/scieng/department-electronic-and-computer-engineering)\n",
            "      * [Mathematics and Statistics](/scieng/schools-and-departments/department-mathematics-and-statistics)\n",
            "      * [School of Design](/scieng/schools-and-departments/school-design)\n",
            "      * [School of Engineering](/scieng/schools-and-departments/school-engineering)\n",
            "    * [Irish World Academy of Music and Dance](/irish-world-academy)\n",
            "  * [Research](/research \"Research at UL\")\n",
            "    * [Expertise](https://pure.ul.ie/ \"Research expertise\")\n",
            "    * [Institutes and centres](/research/institutes-centres \"Research institutes and centres\")\n",
            "  * [Enterprise and Innovation](/research/enterprise-and-innovation)\n",
            "    * [Graduate Recruitment](https://www.ul.ie/cecd/graduateemployers)\n",
            "    * [Nexus Innovation Centre](/research/enterprise-and-innovation/nexus-innovation-centre)\n",
            "    * [Professional Development](/industry-business/professional-development)\n",
            "    * [Student Work Placement](/enterprise-innovation/student-work-placement)\n",
            "    * [UL Foundation](https://ulfoundation.com/)\n",
            "    * [Technology Transfer Office](/research/enterprise-and-innovation/technology-transfer-office)\n",
            "  * [About UL](/about-ul)\n",
            "    * [UL Campus](/about-ul/ul-campus)\n",
            "      * [Accommodation ](https://campuslife.ul.ie/)\n",
            "      * [Cafés and restaurants](https://visitorservices.ul.ie/index.jsp?p=103&n=299)\n",
            "      * [Getting Around Campus](/buildings/travel/travel-transport-main-page)\n",
            "      * [Glucksman Library](https://www.ul.ie/library)\n",
            "      * [Music, Arts and Culture](/ul-campus/music-arts-culture)\n",
            "      * [UL Merchandise](https://ulvisitorcentre.ie/)\n",
            "      * [UL Sport](http://www.ulsport.ie/)\n",
            "      * [Student and Staff Gateway](/portal \"Access to services relevant to staff and students\")\n",
            "      * [Virtual Tour](/about-ul/virtual-tour)\n",
            "    * [Office of the President](/presidents-office)\n",
            "    * [UL@50 Strategic Plan 2019-2024](/presidents-office/strategic-publications)\n",
            "    * [Sustainability](/sustainability)\n",
            "    * [University Governance](/about-ul/university-governance)\n",
            "    * [Office of the Provost/Deputy President](/provost)\n",
            "    * [Office of Vice President Global and Community Engagement](/about-ul/vice-president-global-and-community-engagement)\n",
            "    * [A-Z Directory](/about-ul/directory-of-services)\n",
            "    * [Administration and support offices](/about-ul/administration-support-offices)\n",
            "    * [University Profile](/presidents-office/university-profile)\n",
            "    * [Strategic Alliances](/about-ul/strategic-alliances)\n",
            "    * [Marketing and Communications](https://www.ul.ie/marcomms/)\n",
            "    * [Equality, Diversity and Inclusion](/equality-diversity-inclusion \"Human Rights, Equality, Diversity and Inclusion\")\n",
            "    * [Healthy UL](/healthy-ul)\n",
            "    * [UL Community](/about-ul/ul-community)\n",
            "    * [Visitor Centre ](https://www.ul.ie/visitorcentre)\n",
            "    * [Join the team in UL](https://www.ul.ie/vacancies)\n",
            "    * [Contact us](/contact-information)\n",
            "    * [Accessibility](/accessibility)\n",
            "  * [International](/global)\n",
            "  * [UL Alumni](/ul-alumni \"UL Alumni\")\n",
            "\n",
            "# Contact information\n",
            "\n",
            "## Breadcrumbs\n",
            "\n",
            "  1. [UL Home](/)\n",
            "\n",
            "## **Main postal address and contact information**\n",
            "\n",
            "University of Limerick, Limerick, V94 T9PX, Ireland​\n",
            "\n",
            "**Telephone:  **[+353 (0)61 202700](tel:0035361202700)\n",
            "\n",
            "**E-mail:  **[reception@ul.ie](mailto:reception@ul.ie)\n",
            "\n",
            "## To report an emergency ONLY (24 hour number)\n",
            "\n",
            "**EMERGENCY Extension Number (on campus):  **3333​  \n",
            "**EMERGENCY Phone:**  [061 213333](tel:061213333)  Please note that we cannot\n",
            "deal with any other queries on this number\n",
            "\n",
            "## Admissions / Applications\n",
            "\n",
            "Undergraduate Admissions\n",
            "\n",
            "Prospective students can contact the Undergraduate Admissions team through the\n",
            "[Academic Registry website](/academic-registry/about/contact-us)\n",
            "\n",
            "Postgraduate & Flexible Learning Admissions\n",
            "\n",
            "Graduate & Professional Studies (GPS)  \n",
            "[Contact GPS](/group/26/content/85607)  \n",
            "**Tel:** +353-61-234377  \n",
            "**Website:** [www.ul.ie/gps](/gps \"Graduate and Professional Studies\")\n",
            "\n",
            "International Student Admissions\n",
            "\n",
            "**Tel:  **[+353 61 203154](tel:0035361203154)  \n",
            "**Fax:**  +353 61 213062​  \n",
            "**Email:**[international@ul.ie](mailto:international@ul.ie)  \n",
            "**Website:**[https://www.ul.ie/global](/global \"Global\")\n",
            "\n",
            "## Faculty Directories\n",
            "\n",
            "Faculty of Arts, Humanities & Social Sciences\n",
            "\n",
            "**Phone:  **[+353 61 202286](tel:0035361202286)  \n",
            "**Email:  ** [DeanFAHSS@ul.ie](mailto:DeanFAHSS@ul.ie)  \n",
            "**Website:  **[www.ul.ie/artsoc](/artsoc \"UL Faculty of Arts, Humanities and\n",
            "Social Sciences\")\n",
            "\n",
            "Faculty of Education & Health Sciences\n",
            "\n",
            "**Phone:**  +353-61-213081​ or 234392  \n",
            "**Email:  **[ehs@ul.ie](mailto:ehs@ul.ie)  \n",
            "**Website:**[www.ul.ie/ehs](/ehs \"Faculty of Education and Health Sciences\")\n",
            "\n",
            "Faculty of Science of Engineering\n",
            "\n",
            "**Phone:  **[+353 61 202688](http://tel:0035361202688)  \n",
            "**Fax:**  +353 61 202602​  \n",
            "**Email:  **[scieng@ul.ie](mailto:scieng@ul.ie)  \n",
            "**Website:**[www.ul.ie/scieng](/scieng \"Faculty of Science and Engineering\")\n",
            "\n",
            "Kemmy Business School\n",
            "\n",
            "**Phone:  **[+353 61 202116](tel:0035361202116)  \n",
            "**Fax:  **+353 61 336559​​  \n",
            "**Email:**  [kbsdean@ul.ie](mailto:kbsdean@ul.ie)  \n",
            "**Website:  **[www.ul.ie/business](/business \"Kemmy Business School\")\n",
            "\n",
            "Need to find an academic / researcher?\n",
            "\n",
            "[Find an expert](/research/find-expert)\n",
            "\n",
            "Have a Question? [Contact us!](/contact-information) [Request a copy of our\n",
            "Prospectus ](/ul-prospectuses)\n",
            "\n",
            "University of Limerick  \n",
            "Limerick  \n",
            "V94 T9PX  \n",
            "Ireland\n",
            "\n",
            "[Tel: +353 61 202700](tel:+353-\\(0\\)61-202700)\n",
            "\n",
            "Registered Charity Number 20009274\n",
            "\n",
            "## About UL\n",
            "\n",
            "  * [Study at UL](/study-ul)\n",
            "  * [Faculties and Departments](/faculties-and-departments)\n",
            "  * [UL Campus](/ul-campus)\n",
            "  * [A-Z Directory](/about-ul/directory-of-services)\n",
            "  * [Join the team at UL](/vacancies)\n",
            "  * [Contact Us](/contact-information)\n",
            "\n",
            "## Useful Links\n",
            "\n",
            "  * [Academic calendar](/academic-registry/academic-calendar)\n",
            "  * [Student email](https://www.outlook.com/studentmail.ul.ie)\n",
            "  * [Student gateway](/students)\n",
            "  * [Staff email](https://portal.office.com)\n",
            "  * [Staff gateway](/staff)\n",
            "\n",
            "## Website\n",
            "\n",
            "  * [Disclaimer](/disclaimer)\n",
            "  * [Cookie Statement](/cookie-statement)\n",
            "  * [Privacy Notices](https://www.ul.ie/corporatesecretary/data-protection)\n",
            "  * [Accessibility statement](/accessibility/accessibility-statement \"Accessibility statement\")\n",
            "\n",
            "[ ![University of Limerick home](/themes/custom/ul/logo.svg) ](/)\n",
            "\n",
            "[ ![Co-funded by the Irish Government and the\n",
            "E.U.](/themes/custom/ul/assets/images/erdp-eusf-logo-v2.svg)\n",
            "](https://eufunds.ie/european-structural-and-investment-funds/) [ ![Top 500 in\n",
            "the World](/themes/custom/ul/assets/images/top-500-logo.svg) ](/presidents-\n",
            "office/university-profile/our-achievements) [ ![University affiliations Athena\n",
            "Swan Info](/themes/custom/ul/assets/images/athena-swan-silver-logo.svg)\n",
            "](/hr/athena-swan)\n",
            "\n",
            "Follow Us\n",
            "\n",
            "  * [ Follow University of Limerick on Facebook  ](https://www.facebook.com/universityoflimerick)\n",
            "  * [ Follow University of Limerick on X/Twitter  ](https://twitter.com/ul)\n",
            "  * [ Follow University of Limerick on Instagram  ](https://www.instagram.com/universityoflimerick/)\n",
            "  * [ Follow University of Limerick on LinkedIn  ](https://www.linkedin.com/company/university-of-limerick)\n",
            "  * [ Follow University of Limerick on YouTube  ](https://www.youtube.com/user/UniversityofLimerick)\n",
            "  * [ Follow University of Limerick on TikTok  ](https://www.tiktok.com/@universityoflimerick)\n",
            "\n",
            "(C) University of Limerick\n",
            "\n",
            "\n"
          ]
        }
      ]
    },
    {
      "cell_type": "code",
      "source": [
        "def contactsExtractor(contact_information_text):\n",
        "\n",
        "  email_regex = r\"[A-Za-z0-9]+@ul.ie\"\n",
        "\n",
        "  phone_regex = r\"tel:([0-9]{13})\"\n",
        "\n",
        "  website_regex = r\"http[s]?://(?:[a-zA-Z]|[0-9]|[$-_@.&+]|[!*\\(\\),]|(?:%[0-9a-fA-F][0-9a-fA-F]))+\"\n",
        "\n",
        "  emails = re.findall(email_regex, contact_information_text)\n",
        "  phones = re.findall(phone_regex, contact_information_text)\n",
        "  websites = re.findall(website_regex, contact_information_text)\n",
        "\n",
        "  print(f\"{len(emails)} Emails = {emails}\")\n",
        "  print(f\"{len(phones)} Phone: {phones}\")\n",
        "  print(f\"{len(websites)} Websites = {websites}\")\n",
        "\n",
        "\n"
      ],
      "metadata": {
        "id": "8zfpn8RtFjEP"
      },
      "execution_count": 74,
      "outputs": []
    },
    {
      "cell_type": "code",
      "source": [
        "contactsExtractor(contact_information_text)"
      ],
      "metadata": {
        "colab": {
          "base_uri": "https://localhost:8080/"
        },
        "id": "6ASzLOgiFkwm",
        "outputId": "a515408e-e21f-4420-be2a-923f9ff3b0b3"
      },
      "execution_count": 75,
      "outputs": [
        {
          "output_type": "stream",
          "name": "stdout",
          "text": [
            "12 Emails = ['reception@ul.ie', 'reception@ul.ie', 'international@ul.ie', 'international@ul.ie', 'DeanFAHSS@ul.ie', 'DeanFAHSS@ul.ie', 'ehs@ul.ie', 'ehs@ul.ie', 'scieng@ul.ie', 'scieng@ul.ie', 'kbsdean@ul.ie', 'kbsdean@ul.ie']\n",
            "5 Phone: ['0035361202700', '0035361203154', '0035361202286', '0035361202688', '0035361202116']\n",
            "36 Websites = ['https://www.facebook.com/universityoflimerick)', 'https://twitter.com/ul)', 'https://www.instagram.com/universityoflimerick/)', 'https://www.linkedin.com/company/university-of-limerick)', 'https://www.youtube.com/user/UniversityofLimerick)', 'https://www.tiktok.com/@universityoflimerick)', 'https://www.ul.ie/library)', 'https://ul.workvivo.com/directory/people)', 'https://www.ul.ie/academic-registry/prospective-students/pathways-ul)', 'https://www.youvisit.com/tour/139046/143553?pl=v&from=embed-js-failed)', 'https://www.ul.ie/artsoc/law', 'https://www.ul.ie/artsoc/seic)', 'https://www.ul.ie/soedu)', 'https://pure.ul.ie/', 'https://www.ul.ie/cecd/graduateemployers)', 'https://ulfoundation.com/)', 'https://campuslife.ul.ie/)', 'https://visitorservices.ul.ie/index.jsp?p=103&n=299)', 'https://www.ul.ie/library)', 'https://ulvisitorcentre.ie/)', 'http://www.ulsport.ie/)', 'https://www.ul.ie/marcomms/)', 'https://www.ul.ie/visitorcentre)', 'https://www.ul.ie/vacancies)', 'https://www.ul.ie/global](/global', 'http://tel:0035361202688)', 'https://www.outlook.com/studentmail.ul.ie)', 'https://portal.office.com)', 'https://www.ul.ie/corporatesecretary/data-protection)', 'https://eufunds.ie/european-structural-and-investment-funds/)', 'https://www.facebook.com/universityoflimerick)', 'https://twitter.com/ul)', 'https://www.instagram.com/universityoflimerick/)', 'https://www.linkedin.com/company/university-of-limerick)', 'https://www.youtube.com/user/UniversityofLimerick)', 'https://www.tiktok.com/@universityoflimerick)']\n"
          ]
        }
      ]
    },
    {
      "cell_type": "markdown",
      "source": [
        "#Task 2.1"
      ],
      "metadata": {
        "id": "Q9oGPQBbKqvy"
      }
    },
    {
      "cell_type": "markdown",
      "source": [
        "Use the !wget command to download the Complete Works of William Shakespeare from here; then open the downloaded text file and print out its first 50 lines.\n",
        "\n",
        "Python String splitlines() Method Split a string into a list where each line is a list item."
      ],
      "metadata": {
        "id": "aTcd-YN1LSJx"
      }
    },
    {
      "cell_type": "code",
      "source": [
        "!wget http://www.gutenberg.org/files/100/100-0.txt\n",
        "filePath = \"/content/100-0.txt\"\n",
        "\n",
        "ShakespeareFile = open(filePath, \"r\")\n",
        "ShakespeareContent = ShakespeareFile.read()\n",
        "ShakespeareContent = ShakespeareContent.splitlines()\n",
        "# The splitlines() method splits a string into a list.\n",
        "# The splitting is done at line breaks.\n",
        "#print(ShakespeareContent[0:50])"
      ],
      "metadata": {
        "colab": {
          "base_uri": "https://localhost:8080/"
        },
        "id": "X5gQUsdDLIY1",
        "outputId": "e1f4182a-9051-45f0-a5dc-936eeaeaae5d"
      },
      "execution_count": 76,
      "outputs": [
        {
          "output_type": "stream",
          "name": "stdout",
          "text": [
            "--2025-01-08 13:48:35--  http://www.gutenberg.org/files/100/100-0.txt\n",
            "Resolving www.gutenberg.org (www.gutenberg.org)... 152.19.134.47, 2610:28:3090:3000:0:bad:cafe:47\n",
            "Connecting to www.gutenberg.org (www.gutenberg.org)|152.19.134.47|:80... connected.\n",
            "HTTP request sent, awaiting response... 302 Found\n",
            "Location: https://www.gutenberg.org/files/100/100-0.txt [following]\n",
            "--2025-01-08 13:48:36--  https://www.gutenberg.org/files/100/100-0.txt\n",
            "Connecting to www.gutenberg.org (www.gutenberg.org)|152.19.134.47|:443... connected.\n",
            "HTTP request sent, awaiting response... 200 OK\n",
            "Length: 5618733 (5.4M) [text/plain]\n",
            "Saving to: ‘100-0.txt’\n",
            "\n",
            "100-0.txt           100%[===================>]   5.36M  3.40MB/s    in 1.6s    \n",
            "\n",
            "2025-01-08 13:48:38 (3.40 MB/s) - ‘100-0.txt’ saved [5618733/5618733]\n",
            "\n"
          ]
        }
      ]
    },
    {
      "cell_type": "markdown",
      "source": [
        "#Task 2.2"
      ],
      "metadata": {
        "id": "1Z6r5HzxLtnj"
      }
    },
    {
      "cell_type": "markdown",
      "source": [
        "This code snippet uses the Keras Tokenizer to analyze the vocabulary of a Shakespearean text corpus (ShakespeareContent). First, it creates a Tokenizer object and then \"fits\" it to the corpus, essentially building a vocabulary of unique words (types) and their frequencies. It calculates the total number of words (tokens) by summing the frequencies of each word and the total number of unique words (types) by counting the entries in the tokenizer's word index. Finally, it identifies and displays the top 10 most frequent types, along with their ranks and frequencies, providing insights into the most commonly used words in the Shakespearean text. This analysis is a fundamental step in natural language processing tasks, enabling further text processing and modeling based on the identified vocabulary."
      ],
      "metadata": {
        "id": "1XX-PngfL4wM"
      }
    },
    {
      "cell_type": "code",
      "source": [
        "from tensorflow.keras.preprocessing.text import Tokenizer\n",
        "tokenizer = Tokenizer()\n",
        "#Tokenizing the Shakespeare corpus\n",
        "tokenizer.fit_on_texts(ShakespeareContent)\n",
        "\n",
        "#Total number of tokens in the corpus\n",
        "total_tokens = 0 # Initializing the variable to zero\n",
        "for (word, count) in tokenizer.word_counts.items():\n",
        "  total_tokens += count # number of Tokens is the sum of all individual occurences of each word\n",
        "print(f\"Total number of tokens in the corpus: {total_tokens}\")\n",
        "\n",
        "#Total number of types in the corpus\n",
        "total_types = len(tokenizer.word_index)\n",
        "print(f\"Total number of types in the corpus: {total_types}\")\n",
        "\n",
        "#top 10 most frequent Types in the corpus along with their ranks and frequencies\n",
        "print(\"\\nTop 10 most frequent Types in the corpus along with their ranks and frequencies: \")\n",
        "for word, index in tokenizer.word_index.items():\n",
        "    if index < 11:\n",
        "        print(f\"    \\\"{word}\\\" is ranked #{index}, with a frequency of {tokenizer.word_counts[word]}\")"
      ],
      "metadata": {
        "colab": {
          "base_uri": "https://localhost:8080/"
        },
        "id": "aG2dUiZzLWOS",
        "outputId": "fc266ad6-3fd8-4be0-8c75-b4ccf67fa810"
      },
      "execution_count": 77,
      "outputs": [
        {
          "output_type": "stream",
          "name": "stdout",
          "text": [
            "Total number of tokens in the corpus: 969435\n",
            "Total number of types in the corpus: 29851\n",
            "\n",
            "Top 10 most frequent Types in the corpus along with their ranks and frequencies: \n",
            "    \"the\" is ranked #1, with a frequency of 30309\n",
            "    \"and\" is ranked #2, with a frequency of 28430\n",
            "    \"i\" is ranked #3, with a frequency of 21694\n",
            "    \"to\" is ranked #4, with a frequency of 20944\n",
            "    \"of\" is ranked #5, with a frequency of 18742\n",
            "    \"a\" is ranked #6, with a frequency of 16371\n",
            "    \"you\" is ranked #7, with a frequency of 14332\n",
            "    \"my\" is ranked #8, with a frequency of 13162\n",
            "    \"in\" is ranked #9, with a frequency of 12412\n",
            "    \"that\" is ranked #10, with a frequency of 11779\n"
          ]
        }
      ]
    },
    {
      "cell_type": "markdown",
      "source": [
        "#Task 2.3"
      ],
      "metadata": {
        "id": "gsmr8ZjdL8w0"
      }
    },
    {
      "cell_type": "code",
      "source": [
        "from nltk.stem import PorterStemmer\n",
        "import nltk\n",
        "nltk.download('wordnet')\n",
        "from nltk.stem.wordnet import WordNetLemmatizer\n",
        "ps = PorterStemmer()\n",
        "lemmatizer = WordNetLemmatizer()"
      ],
      "metadata": {
        "colab": {
          "base_uri": "https://localhost:8080/"
        },
        "id": "OaXzMbPaL8Us",
        "outputId": "92e438d5-ed37-4c1c-b238-c7bf253e9a46"
      },
      "execution_count": 78,
      "outputs": [
        {
          "output_type": "stream",
          "name": "stderr",
          "text": [
            "[nltk_data] Downloading package wordnet to /root/nltk_data...\n"
          ]
        }
      ]
    },
    {
      "cell_type": "code",
      "source": [
        "# stem all the Types in the Shakespeare corpus, and print out the total number of Types after stemming.\n",
        "stemmed_words = []\n",
        "for word in tokenizer.word_index.keys():\n",
        "  stemmed_words.append(ps.stem(word))\n",
        "total_number_of_stemmed_types = len(set(stemmed_words))\n",
        "print(f\"Total number of types after stemming: {total_number_of_stemmed_types}\")"
      ],
      "metadata": {
        "colab": {
          "base_uri": "https://localhost:8080/"
        },
        "id": "QpQ2ztYaMDXF",
        "outputId": "bb64d0b6-77fb-4a2d-85b9-ef257b397c39"
      },
      "execution_count": 79,
      "outputs": [
        {
          "output_type": "stream",
          "name": "stdout",
          "text": [
            "Total number of types after stemming: 20744\n"
          ]
        }
      ]
    },
    {
      "cell_type": "code",
      "source": [
        "# Lemmatize all the Types in the Shakespeare corpus, and print out the total number of Types in the corpus after lemmatization\n",
        "lemmatized_words = []\n",
        "for word in tokenizer.word_index.keys():\n",
        "  lemmatized_words.append(lemmatizer.lemmatize(word))\n",
        "total_number_of_lemmatized_types = len(set(lemmatized_words))\n",
        "print(f\"Total number of types after lemmatization: {total_number_of_lemmatized_types}\")"
      ],
      "metadata": {
        "colab": {
          "base_uri": "https://localhost:8080/"
        },
        "id": "uKwD04TtMHP5",
        "outputId": "68c80e5b-ded3-43f6-f809-de144b56f5ef"
      },
      "execution_count": 80,
      "outputs": [
        {
          "output_type": "stream",
          "name": "stdout",
          "text": [
            "Total number of types after lemmatization: 26575\n"
          ]
        }
      ]
    },
    {
      "cell_type": "code",
      "source": [
        "# Confirm the validity of this arithmetic expression:\n",
        "# total_number_of_types > total_number_of_lemmatized_types > total_number_of_stemmed_types\n",
        "print(f\"Total number of types: {total_types}\")\n",
        "print(f\"Total number of types after stemming: {total_number_of_stemmed_types}\")\n",
        "print(f\"Total number of types after lemmatization: {total_number_of_lemmatized_types}\")\n",
        "#Validate if the arithmetic expression\n",
        "print(f\"\\nTotal number of types > total_number_of_lemmatized_types > total_number_of_stemmed_types: {total_types > total_number_of_lemmatized_types > total_number_of_stemmed_types}\")"
      ],
      "metadata": {
        "colab": {
          "base_uri": "https://localhost:8080/"
        },
        "id": "qyaKxbBPMMLW",
        "outputId": "26aafcc1-8059-4a5e-e3f6-91676d46b877"
      },
      "execution_count": 81,
      "outputs": [
        {
          "output_type": "stream",
          "name": "stdout",
          "text": [
            "Total number of types: 29851\n",
            "Total number of types after stemming: 20744\n",
            "Total number of types after lemmatization: 26575\n",
            "\n",
            "Total number of types > total_number_of_lemmatized_types > total_number_of_stemmed_types: True\n"
          ]
        }
      ]
    },
    {
      "cell_type": "markdown",
      "source": [
        "#Task 2.4"
      ],
      "metadata": {
        "id": "YyCj1H_bMpgD"
      }
    },
    {
      "cell_type": "markdown",
      "source": [
        "This code utilizes the spaCy library for Natural Language Processing (NLP) to segment the last 100 lines of the Shakespeare corpus into individual sentences. It first loads the English language model (en_core_web_sm) from spaCy. Then, it joins the last 100 lines of the corpus using newline characters (\\n) and processes this combined text with spaCy's NLP pipeline. This processing identifies sentence boundaries within the text. The code extracts each identified sentence and stores them in a list called sentences. It then prints the total number of sentences detected and displays each sentence with its corresponding number, providing a clear view of the segmented text from the Shakespeare corpus."
      ],
      "metadata": {
        "id": "Jjdv4E22NXiY"
      }
    },
    {
      "cell_type": "code",
      "source": [
        "import spacy\n",
        "nlp = spacy.load('en_core_web_sm')\n",
        "\n",
        "# Segmenting the last 100 lines of the Shakespeaare corpus\n",
        "doc = nlp(\"\\n\".join(ShakespeareContent[-100:]))\n",
        "sentences = [sent.text for sent in doc.sents]\n",
        "\n",
        "print(f\"Total number of sentences: {len(sentences)}\")\n",
        "\n",
        "print(\"\\nSegmented sentences:\\n\")\n",
        "\n",
        "i=0\n",
        "for sentence in sentences:\n",
        "  i+=1\n",
        "  print(f\"Sentence #{i}. {sentence}\")"
      ],
      "metadata": {
        "colab": {
          "base_uri": "https://localhost:8080/"
        },
        "id": "gdwn2eidMr5O",
        "outputId": "2bdfa987-21ea-4ccf-9e00-e4ef098f286a"
      },
      "execution_count": 83,
      "outputs": [
        {
          "output_type": "stream",
          "name": "stdout",
          "text": [
            "Total number of sentences: 27\n",
            "\n",
            "Segmented sentences:\n",
            "\n",
            "Sentence #1. But by a kiss thought to persuade him there;\n",
            "  And nuzzling in his flank, the loving swine\n",
            "  Sheath’d unaware the tusk in his soft groin.      \n",
            "Sentence #2. 1116\n",
            "\n",
            "“Had I been tooth’d like him\n",
            "Sentence #3. , I must confess,\n",
            "With kissing him\n",
            "Sentence #4. I should have kill’d him first;\n",
            "\n",
            "Sentence #5. But he is dead, and never did he bless\n",
            "My youth with his; the more am I accurst.”          \n",
            "Sentence #6. 1120\n",
            "  With this she falleth in the place she stood,\n",
            "  And stains her face with his congealed blood.\n",
            "\n",
            "\n",
            "Sentence #7. She looks upon his lips, and they are pale;\n",
            "She takes him by the hand, and that is cold,        1124\n",
            "She whispers in his ears a heavy tale,\n",
            "\n",
            "Sentence #8. As if they heard the woeful words she told;\n",
            "She lifts the coffer-lids that close his eyes,\n",
            "Where lo, two lamps burnt out in darkness lies.\n",
            "\n",
            "\n",
            "Sentence #9. Two glasses where herself herself beheld            1129\n",
            "A thousand times, and now no more reflect;\n",
            "Their virtue lost, wherein they late excell’d,\n",
            "And every beauty robb’d of his effect.              \n",
            "Sentence #10. 1132\n",
            "  “Wonder of time,” quoth she, “this is my spite,\n",
            "  That thou being dead, the day should yet be light.\n",
            "\n",
            "\n",
            "Sentence #11. “Since thou art dead, lo here I prophesy,\n",
            "Sorrow on love hereafter shall attend:              1136\n",
            "It shall be waited on with jealousy,\n",
            "Find sweet beginning, but unsavoury end;\n",
            "  Ne’er settled equally, but high or low,\n",
            "  That all love’s pleasure shall not match his woe.\n",
            "\n",
            "\n",
            "Sentence #12. “It shall be fickle, false and full of fraud,       1141\n",
            "Bud, and be blasted in a breathing while;\n",
            "The bottom poison, and the top o’erstraw’d\n",
            "With sweets that shall the truest sight beguile.    \n",
            "Sentence #13. 1144\n",
            "  The strongest body shall it make most weak,\n",
            "  Strike the wise dumb, and teach the fool to speak.\n",
            "\n",
            "\n",
            "Sentence #14. “It shall be sparing, and too full of riot,\n",
            "Teaching decrepit age to tread the measures;        1148\n",
            "\n",
            "Sentence #15. The staring ruffian shall it keep in quiet,\n",
            "Pluck down the rich, enrich the poor with treasures;\n",
            "  It shall be raging mad, and silly mild,\n",
            "  Make the young old, the old become a child.       \n",
            "Sentence #16. 1152\n",
            "\n",
            "“It shall suspect where is no cause of fear,\n",
            "It shall not fear where it should most mistrust;\n",
            "It shall be merciful, and too severe,\n",
            "And most deceiving when it seems most just;         1156\n",
            "  Perverse it shall be, where it shows most toward,\n",
            "  Put fear to valour, courage to the coward.\n",
            "\n",
            "\n",
            "Sentence #17. “It shall be cause of war and dire events,\n",
            "And set dissension ’twixt the son and sire;         1160\n",
            "Subject and servile to all discontents,\n",
            "As dry combustious matter is to fire,\n",
            "  Sith in his prime death doth my love destroy,\n",
            "  They that love best their love shall not enjoy.”  \n",
            "Sentence #18. 1164\n",
            "\n",
            "\n",
            "Sentence #19. By this the boy that by her side lay kill’d\n",
            "Was melted like a vapour from her sight,\n",
            "And in his blood that on the ground lay spill’d,\n",
            "A purple flower sprung up, chequer’d with white,    1168\n",
            "  \n",
            "Sentence #20. Resembling well his pale cheeks, and the blood\n",
            "  Which in round drops upon their whiteness stood.\n",
            "\n",
            "\n",
            "Sentence #21. She bows her head, the new-sprung flower to smell,\n",
            "Comparing it to her Adonis’ breath;                 1172\n",
            "And says within her bosom it shall dwell,\n",
            "Since he himself is reft from her by death;\n",
            "  She drops the stalk, and in the breach appears\n",
            "  Green-dropping sap, which she compares to tears.\n",
            "\n",
            "\n",
            "Sentence #22. “Poor flower,” quoth she, “this was thy father’s guise,\n",
            "Sweet issue of a more sweet-smelling sire,\n",
            "For every little grief to wet his eyes,\n",
            "To grow unto himself was his desire,                1180\n",
            "  And so ’tis thine; but know, it is as good\n",
            "  To wither in my breast as in his blood.\n",
            "\n",
            "\n",
            "Sentence #23. “Here was thy father’s bed, here in my breast;\n",
            "\n",
            "Sentence #24. Thou art the next of blood, and ’tis thy right:     1184\n",
            "Lo in this hollow cradle take thy rest,\n",
            "My throbbing heart shall rock thee day and night:\n",
            "  There shall not be one minute in an hour\n",
            "  \n",
            "Sentence #25. Wherein I will not kiss my sweet love’s flower.”\n",
            "\n",
            "\n",
            "Sentence #26. Thus weary of the world, away she hies,             1189\n",
            "And yokes her silver doves; by whose swift aid\n",
            "Their mistress mounted through the empty skies,\n",
            "In her light chariot quickly is convey’d;           1192\n",
            "  Holding their course to Paphos, where their queen\n",
            "  Means to immure herself and not be seen.\n",
            "\n",
            "\n",
            "\n",
            "\n",
            "  \n",
            "Sentence #27. FINIS\n",
            "*** END OF THE PROJECT GUTENBERG EBOOK 100 ***\n"
          ]
        }
      ]
    }
  ]
}
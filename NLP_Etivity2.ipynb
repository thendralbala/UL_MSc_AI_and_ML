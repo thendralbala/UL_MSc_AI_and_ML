{
  "nbformat": 4,
  "nbformat_minor": 0,
  "metadata": {
    "colab": {
      "provenance": [],
      "authorship_tag": "ABX9TyNB/kQ/ULcCxsCo7vOSLz1E",
      "include_colab_link": true
    },
    "kernelspec": {
      "name": "python3",
      "display_name": "Python 3"
    },
    "language_info": {
      "name": "python"
    }
  },
  "cells": [
    {
      "cell_type": "markdown",
      "metadata": {
        "id": "view-in-github",
        "colab_type": "text"
      },
      "source": [
        "<a href=\"https://colab.research.google.com/github/thendralbala/UL_MSc_AI_and_ML/blob/main/NLP_Etivity2.ipynb\" target=\"_parent\"><img src=\"https://colab.research.google.com/assets/colab-badge.svg\" alt=\"Open In Colab\"/></a>"
      ]
    },
    {
      "cell_type": "markdown",
      "source": [
        "#Task 1"
      ],
      "metadata": {
        "id": "zkt20Ez874WD"
      }
    },
    {
      "cell_type": "code",
      "execution_count": 4,
      "metadata": {
        "id": "i6y8dDlR7wUQ"
      },
      "outputs": [],
      "source": [
        "import time\n",
        "\n",
        "#How many insertions, deletions, or substitutions does it take to turn x into y?\n",
        "def edDistRecursive(x, y):\n",
        "\n",
        "    # If either x or y are empty, then one or more (depending on their length) INSERTIONS or DELECTIONS are needed to transform x to y.\n",
        "    if len(x) == 0:\n",
        "        #print(f'\\t Converting \"{x}\" TO \"{y}\" requires {len(y)} INSERTIONS, therefor it costs {len(y)}')\n",
        "        return len(y)*2\n",
        "    if len(y) == 0:\n",
        "        #print(f'\\t Converting \"{x}\" TO \"{y}\" requires {len(x)} DELETIONS, therefor it costs {len(x)}')\n",
        "        return len(x)*2\n",
        "\n",
        "    # When neither x or y are empty, we must compute the cost of each operation and find the least costly one.\n",
        "    if x[-1] != y[-1]:\n",
        "      flag = 0\n",
        "      flag = 1 if ((x[-1].isalpha() and y[-1].isalpha()) or (x[-1].isdigit() and y[-1].isdigit()))  else 0\n",
        "      if flag:\n",
        "        delta = 2\n",
        "      else:\n",
        "        delta = 4\n",
        "\n",
        "    else:\n",
        "      delta = 0\n",
        "    diagonal_or_substitution_cost = edDistRecursive(x[:-1], y[:-1]) + delta #what's the cost of SUBSTITUTING the last character of x with the last character of y\n",
        "    vertical_or_deletion_cost     = edDistRecursive(x[:-1], y)      + 2     #what's the cost of DELETING the last character of x\n",
        "    horizontal_or_insertion_cost  = edDistRecursive(x, y[:-1])      + 2     #what's the cost of INSERTING the last character of x into y\n",
        "\n",
        "    # what's the least costly operation?\n",
        "    minValue = min(diagonal_or_substitution_cost, vertical_or_deletion_cost, horizontal_or_insertion_cost)\n",
        "\n",
        "    return minValue\n"
      ]
    },
    {
      "cell_type": "code",
      "source": [
        "start = time.time()\n",
        "ed= edDistRecursive('abc', '123')\n",
        "print(f\"Edit Distance: {ed}\")\n",
        "end = time.time()\n",
        "print(\"Execution time: \",(end-start) * 10**3, \"ms\")"
      ],
      "metadata": {
        "colab": {
          "base_uri": "https://localhost:8080/"
        },
        "id": "vxoMGZD278bl",
        "outputId": "c59d4c4f-dc29-42be-a6f2-245865eae8d8"
      },
      "execution_count": 5,
      "outputs": [
        {
          "output_type": "stream",
          "name": "stdout",
          "text": [
            "Edit Distance: 12\n",
            "Execution time:  0.35309791564941406 ms\n"
          ]
        }
      ]
    },
    {
      "cell_type": "code",
      "source": [
        "start = time.time()\n",
        "ed= edDistRecursive('intention', 'execution')\n",
        "print(f\"Edit Distance: {ed}\")\n",
        "end = time.time()\n",
        "print(\"Execution time: \",(end-start) * 10**3, \"ms\")"
      ],
      "metadata": {
        "colab": {
          "base_uri": "https://localhost:8080/"
        },
        "id": "PFLtdvNIf9MK",
        "outputId": "99877c97-237b-49dc-8725-1ad5c193517c"
      },
      "execution_count": 6,
      "outputs": [
        {
          "output_type": "stream",
          "name": "stdout",
          "text": [
            "Edit Distance: 10\n",
            "Execution time:  1033.0052375793457 ms\n"
          ]
        }
      ]
    },
    {
      "cell_type": "markdown",
      "source": [
        "#Task 2"
      ],
      "metadata": {
        "id": "xWT9yaW_gj7A"
      }
    },
    {
      "cell_type": "code",
      "source": [
        "!pip install names-dataset\n",
        "!pip install jellyfish"
      ],
      "metadata": {
        "colab": {
          "base_uri": "https://localhost:8080/"
        },
        "id": "5BnbmrVHgndu",
        "outputId": "44ed51a7-7002-4282-fe57-a9eb1ef292b8"
      },
      "execution_count": 7,
      "outputs": [
        {
          "output_type": "stream",
          "name": "stdout",
          "text": [
            "Collecting names-dataset\n",
            "  Downloading names-dataset-3.1.0.tar.gz (58.4 MB)\n",
            "\u001b[2K     \u001b[90m━━━━━━━━━━━━━━━━━━━━━━━━━━━━━━━━━━━━━━━━\u001b[0m \u001b[32m58.4/58.4 MB\u001b[0m \u001b[31m12.1 MB/s\u001b[0m eta \u001b[36m0:00:00\u001b[0m\n",
            "\u001b[?25h  Preparing metadata (setup.py) ... \u001b[?25l\u001b[?25hdone\n",
            "Collecting pycountry (from names-dataset)\n",
            "  Downloading pycountry-24.6.1-py3-none-any.whl.metadata (12 kB)\n",
            "Downloading pycountry-24.6.1-py3-none-any.whl (6.3 MB)\n",
            "\u001b[2K   \u001b[90m━━━━━━━━━━━━━━━━━━━━━━━━━━━━━━━━━━━━━━━━\u001b[0m \u001b[32m6.3/6.3 MB\u001b[0m \u001b[31m71.7 MB/s\u001b[0m eta \u001b[36m0:00:00\u001b[0m\n",
            "\u001b[?25hBuilding wheels for collected packages: names-dataset\n",
            "  Building wheel for names-dataset (setup.py) ... \u001b[?25l\u001b[?25hdone\n",
            "  Created wheel for names-dataset: filename=names_dataset-3.1.0-py3-none-any.whl size=116832757 sha256=0804095e427de17be375d6fd11373992941021f2beda00e1039b0c6316dd61fb\n",
            "  Stored in directory: /root/.cache/pip/wheels/cf/f8/43/0c4aba87b34e971e7255a41f11dc0035c5e55b026dc3480986\n",
            "Successfully built names-dataset\n",
            "Installing collected packages: pycountry, names-dataset\n",
            "Successfully installed names-dataset-3.1.0 pycountry-24.6.1\n",
            "Requirement already satisfied: jellyfish in /usr/local/lib/python3.10/dist-packages (1.1.0)\n"
          ]
        }
      ]
    },
    {
      "cell_type": "code",
      "source": [
        "from names_dataset import NameDataset, NameWrapper\n",
        "import jellyfish\n",
        "import random"
      ],
      "metadata": {
        "id": "uS3G57Gsgqk2"
      },
      "execution_count": 8,
      "outputs": []
    },
    {
      "cell_type": "code",
      "source": [
        "nd = NameDataset()\n",
        "firstNames = nd.first_names\n",
        "lastNames = nd.last_names"
      ],
      "metadata": {
        "id": "le5TbTmhhS8O"
      },
      "execution_count": 11,
      "outputs": []
    },
    {
      "cell_type": "code",
      "source": [
        "#Write a function that takes your firstName and lastName as input and checks if they exist in the First and Last Names dataset. If they do then print out the most likely nationality and gender\n",
        "def check_name(firstName, lastName):\n",
        "  if (firstName in firstNames) and (lastName in lastNames):\n",
        "    print(f'The name {firstName} {lastName} exists in the dataset')\n",
        "    fname_details = nd.search(firstName)\n",
        "    print(f\"First Name \\\"{firstName}\\\" found:{fname_details['first_name']}\")\n",
        "    print(f'Most Likely Gender: {NameWrapper(nd.search(firstName)).gender}')\n",
        "    print(f'Most Likely Nationality: { NameWrapper(nd.search(firstName)).country}')\n",
        "\n",
        "    lname_details = nd.search(lastName)\n",
        "    print(f\"\\nLast Name \\\"{lastName}\\\" found:{fname_details['last_name']}\")\n",
        "    print(f'Most Likely Nationality: { NameWrapper(nd.search(lastName)).country}')\n",
        "\n",
        "  else:\n",
        "    print(f'The name {firstName} {lastName} does not exist in the dataset')"
      ],
      "metadata": {
        "id": "Zvxxn-RrgscS"
      },
      "execution_count": 12,
      "outputs": []
    },
    {
      "cell_type": "code",
      "source": [
        "check_name('Michael', 'Scott')"
      ],
      "metadata": {
        "colab": {
          "base_uri": "https://localhost:8080/"
        },
        "id": "YM9cJd3BgwbI",
        "outputId": "2f85e025-0eca-42d7-d0bb-c5761413cbfe"
      },
      "execution_count": 13,
      "outputs": [
        {
          "output_type": "stream",
          "name": "stdout",
          "text": [
            "The name Michael Scott exists in the dataset\n",
            "First Name \"Michael\" found:{'country': {'Austria': 0.031, 'Canada': 0.036, 'Germany': 0.155, 'France': 0.04, 'United Kingdom': 0.15, 'Ireland': 0.03, 'Italy': 0.056, 'Nigeria': 0.05, 'United States': 0.407, 'South Africa': 0.046}, 'gender': {'Female': 0.008, 'Male': 0.992}, 'rank': {'Austria': 1, 'Canada': 2, 'Germany': 1, 'France': 188, 'United Kingdom': 8, 'Ireland': 4, 'Italy': 221, 'Nigeria': 20, 'United States': 4, 'South Africa': 14}}\n",
            "Most Likely Gender: Male\n",
            "Most Likely Nationality: United States\n",
            "\n",
            "Last Name \"Scott\" found:{'country': {'Germany': 0.038, 'Egypt': 0.056, 'France': 0.025, 'United Kingdom': 0.046, 'Ghana': 0.04, 'Italy': 0.026, 'Malaysia': 0.057, 'Nigeria': 0.437, 'United States': 0.19, 'South Africa': 0.086}, 'gender': {}, 'rank': {'Germany': 210, 'Egypt': 2101, 'France': 1523, 'United Kingdom': 691, 'Ghana': 45, 'Italy': 4864, 'Malaysia': 538, 'Nigeria': 25, 'United States': 425, 'South Africa': 387}}\n",
            "Most Likely Nationality: United States\n"
          ]
        }
      ]
    },
    {
      "cell_type": "markdown",
      "source": [
        "B. Write a function that takes your firstName and lastName as input and prints out their Soundex codes (use the Soundex function in the jellyfish library)."
      ],
      "metadata": {
        "id": "VXkEiGhahBFl"
      }
    },
    {
      "cell_type": "code",
      "source": [
        "def soundex_code(firstName, lastName):\n",
        "  #prints out their Soundex codes (use the Soundex function in the jellyfish library).\n",
        "  print(f\"Soundex Code for \\\"{firstName}\\\" is: {jellyfish.soundex(firstName)}\")\n",
        "  print(f\"Soundex Code for \\\"{lastName}\\\" is: {jellyfish.soundex(lastName)}\")\n",
        "\n",
        "\n",
        "\n",
        "soundex_code(\"Michael\",\"Scott\")"
      ],
      "metadata": {
        "colab": {
          "base_uri": "https://localhost:8080/"
        },
        "id": "hyt9hVcSgysr",
        "outputId": "e49c66ce-e3f9-4780-ef0f-9c4bc3680d08"
      },
      "execution_count": 14,
      "outputs": [
        {
          "output_type": "stream",
          "name": "stdout",
          "text": [
            "Soundex Code for \"Michael\" is: M240\n",
            "Soundex Code for \"Scott\" is: S300\n"
          ]
        }
      ]
    },
    {
      "cell_type": "markdown",
      "source": [
        "C. Write a function that takes your firstName as input and prints out a list of first names in the dataset whose Soundex codes are the same as your firstName’s Soundex code"
      ],
      "metadata": {
        "id": "1YDpj_tlhD8N"
      }
    },
    {
      "cell_type": "code",
      "source": [
        "soundex_data = {}\n",
        "for name in firstNames:\n",
        "  soundex_data[name] = jellyfish.soundex(name)\n",
        "\n",
        "def similar_scodes(name):\n",
        "  scode = jellyfish.soundex(name)\n",
        "  result = []\n",
        "  for i in soundex_data.keys():\n",
        "    if soundex_data[i] == scode:\n",
        "      result.append(i)\n",
        "\n",
        "  return result"
      ],
      "metadata": {
        "id": "PJRRHBNbg0zc"
      },
      "execution_count": 15,
      "outputs": []
    },
    {
      "cell_type": "code",
      "source": [
        "print(f\"NAMES THAT HAVE THE SAME SOUNDEX CODE AS 'DWIGHT': \", similar_scodes(\"Dwight\"))\n"
      ],
      "metadata": {
        "colab": {
          "base_uri": "https://localhost:8080/"
        },
        "id": "Ky-cZWs4g26r",
        "outputId": "7fd7195c-da89-49de-ba5e-1b429db347ab"
      },
      "execution_count": 16,
      "outputs": [
        {
          "output_type": "stream",
          "name": "stdout",
          "text": [
            "NAMES THAT HAVE THE SAME SOUNDEX CODE AS 'DWIGHT':  ['D.Jd', 'Daacad', 'Daashod', 'Dacota', 'Dag Otto', 'Dagadu', 'Dagdu', 'Dagheid', 'Dahsyat', 'Daiktai', 'Daiktu', 'Daista', 'Dajda', 'Dajdu', 'Dajti', 'Dakata', 'Dakato', 'Dakoda', 'Dakota', 'Dakotah', 'Dakshata', 'Dasda', 'Dashte', 'Dashti', 'Dashty', 'Dashuta', 'Dasta', 'Dasty', 'Daxido', 'Daysde', 'Dayseth', 'Dayshadow', 'Daysita', 'Dcd', 'Dcde', 'Dducati', 'De Codé', 'Deccyto', 'Dechateau', 'Decide', 'Decoda', 'Deekshith', 'Deexeed', 'Deg(Hd', 'Deight', 'Dejauet', 'Dejst', 'Dejwid', 'Dekida', 'Dekota', 'Dekti', 'Deogat', 'Deojeet', 'Desada', 'Desata', 'Desawit', 'Desde', 'Deseada', 'Desiada', 'Desida', 'Desita', 'Desito', 'Desitu', 'Deskata', 'Dest', 'Desta', 'Destaw', 'Deste', 'Desti', 'Destia', 'Desto', 'Desty', 'Deswita', 'Dewa Gede', 'Dewight', 'Dexta', 'Deysita', 'Dhajeet', 'Dhookhit', 'Diakhate', 'Diakite', 'Diakité', 'Diaye Aïssatou', 'Diced', 'Dichauto', 'Dicoda', 'Dicta', 'Dicte', 'Dieghito', 'Diegito', 'Diego De', 'Diego Dio', 'Diegote', 'Dieguitho', 'Dieguito', 'Dieguitoo', 'Dieucet', 'Digit', 'Diieguiito', 'Dijado', 'Dijatou', 'Dijete', 'Dijuota', 'Dikgetho', 'Dikhudu', 'Dikshit', 'Dikshita', 'Dikte', 'Dios Te', 'Diosita', 'Diosito', 'Dishita', 'Dishtee', 'Dissata', 'Dista', 'Disti', 'Disty', 'Dix-Huit', 'Dixit', 'Dixita', 'Dizeta', 'Djad', 'Djadi', 'Djaedi', 'Djahad', 'Djahed', 'Djahid', 'Djahida', 'Djahide', 'Djaouad', 'Djaoud', 'Djaoued', 'Djaouida', 'Djata', 'Djati', 'Djato', 'Djatu', 'Djawad', 'Djawada', 'Djawade', 'Djawatt', 'Djawed', 'Djawida', 'Djawoto', 'Djd', 'Djdi', 'Djed', 'Djeda', 'Djeddi', 'Djeddou', 'Djedi', 'Djeti', 'Djeyda', 'Djgsdh', 'Djida', 'Djidda', 'Djiddo', 'Djido', 'Djihad', 'Djihade', 'Djihed', 'Djoda', 'Djodi', 'Djody', 'Djoewita', 'Djoit', 'Djouad', 'Djouadi', 'Djoud', 'Djouda', 'Djoudi', 'Djshotta', 'Djshut', 'Djsweet', 'Djuddah', 'Djuto', 'Djuwadi', 'Djuwita', 'Djwad', 'Dk Yati', 'Dketty', 'Docet', 'Dochita', 'Doct', 'Docta', 'Docto', 'Dogot', 'Dokata', 'Dokht', 'Dokt', 'Dokta', 'Doktoy', 'Dookhit', 'Doost', 'Dosd', 'Dositeo', 'Dost', 'Dosta', 'Doste', 'Dosti', 'Dosto', 'Dostu', 'Dosty', 'Doughty', 'Dqdo', 'Dst', 'Dsta', 'Du Sud', 'Duc Tai', 'Ducati', 'Duchateau', 'Duct', 'Duguet', 'Dujeta', 'Duka D', 'Dukat', 'Dukate', 'Dukati', 'Dukite', 'Dushtu', 'Dust', 'Dusti', 'Dusto', 'Dustu', 'Dusty', 'Duxido', 'Dwght', 'Dwight', 'Dwyght', 'Dzade', 'Dzadu', 'Dzata', 'Dzato', 'Dziad', 'Dzida', 'Dzido', 'Dzidu', 'Dzihada', 'Döwşd', 'Düśtó', 'Džihad', 'Džudo']\n"
          ]
        }
      ]
    },
    {
      "cell_type": "markdown",
      "source": [
        "D. Write a function that takes your firstName and lastName as input and returns their Levenshtein Distance (use the Levenshtein Distance function in the jellyfish library)."
      ],
      "metadata": {
        "id": "r31YOCAuhFzm"
      }
    },
    {
      "cell_type": "code",
      "source": [
        "def lev_dist(firstName, lastName):\n",
        "  return jellyfish.levenshtein_distance(firstName, lastName)"
      ],
      "metadata": {
        "id": "ZRGQcVIJg5Hx"
      },
      "execution_count": 17,
      "outputs": []
    },
    {
      "cell_type": "code",
      "source": [
        "print(f\"Levenshtein distance between John and Smith: {lev_dist('John','Smith')}\")"
      ],
      "metadata": {
        "colab": {
          "base_uri": "https://localhost:8080/"
        },
        "id": "0KogYYq8g5uw",
        "outputId": "f58fbdcb-bdf0-4dbf-aeda-60c2328af3a3"
      },
      "execution_count": 18,
      "outputs": [
        {
          "output_type": "stream",
          "name": "stdout",
          "text": [
            "Levenshtein distance between John and Smith: 5\n"
          ]
        }
      ]
    },
    {
      "cell_type": "markdown",
      "source": [
        "#Task 3"
      ],
      "metadata": {
        "id": "WjOIRnbvhuzC"
      }
    },
    {
      "cell_type": "code",
      "source": [
        "# Ver.2024.2\n",
        "import re\n",
        "# printTable is a helper function for formatting and printing the DP table. >>> DO NOT MODIFY <<<\n",
        "def printTable(table, x, y, description):\n",
        "    print(f'\\033[1m{description}\\n')\n",
        "    current_row = current_col = -1\n",
        "    current_row_col = re.search(\"^row ([0-9]+) , col ([0-9]+)$\",description)\n",
        "    if current_row_col:\n",
        "        current_row = int(current_row_col.group(1))\n",
        "        current_col= int(current_row_col.group(2))\n",
        "    x=\"#\"+x\n",
        "    y=\" #\"+y\n",
        "    for c in y:\n",
        "        print('\\033[0m\\033[01m' +c.rjust(10, ' '), end=' ') # reset formatting + bold and print each character, c, in the target word, y, in the heading row\n",
        "    print('\\n')\n",
        "    row_counter=0\n",
        "    for row in table:\n",
        "        print('\\033[0m\\033[01m' + x[row_counter].rjust(10, ' '), end=' ') #reset fomatting and print the character in source (x) represented by the current row\n",
        "        col_counter=0\n",
        "        for col in row:\n",
        "            if (row_counter == current_row) and (col_counter == current_col):\n",
        "                formatting = '\\033[1m'+'\\033[91m' #bold + lightred\n",
        "            else: formatting = '\\033[0m' #reset fomatting\n",
        "            print(formatting + str(col).rjust(10, ' '), end=' ')  # rjust returns a 10-characters long, right justified version of the string\n",
        "            col_counter+=1\n",
        "        row_counter+=1\n",
        "        print('\\n\\n')\n",
        "    print('---------------------------------------------------------------------------------------------------------------')\n",
        "\n",
        " # A DP-based solution for edit distance problem\n",
        "def editDistDP(x,y):\n",
        "    dp = [] # Create an empty (Dynamic Pgoramming) table to store results of\n",
        "    arrows = []\n",
        "    # fill in the table with zeros\n",
        "    for row in range(len(x) + 1):\n",
        "        dp.append([0]* (len(y) + 1))\n",
        "        arrows.append([' ']* (len(y) + 1))\n",
        "\n",
        "    # Alternatively, you can use List Comprehension to initiate the DP table in one line of code\n",
        "    # dp = [[0 for column in range(len(y) + 1)] for row in range(len(x) + 1)]\n",
        "\n",
        "    # Fill in the base case (easy) subproblems, i.e. the first row and column of the DP table\n",
        "\n",
        "    # first row: base case subproblems for computing the cost of converting \"\" to y\n",
        "    for j in range(len(y) + 1):\n",
        "        # If x is empty then the only option is to insert all the characters of y\n",
        "        # Minimum number of required operations (cost) is j insertions, where j = len(y)\n",
        "        dp[0][j] = j\n",
        "        arrows[0][j] =  '←' + str(dp[0][j])\n",
        "\n",
        "# first column: base case subproblems for computing the cost of converting x to \"\"\n",
        "    for i in range(len(x) + 1):\n",
        "        # If y is empty then the only option is to delete all the characters of x\n",
        "        # Minimum number of required operations (cost) is i deletions, where i = len(x)\n",
        "        dp[i][0] = i\n",
        "        arrows[i][0] =  '↑' + str(dp[i][0])\n",
        "\n",
        "    arrows[0][0] = str(dp[0][0])\n",
        "\n",
        "    printTable(dp, x, y, \"DP table after base-case (easy) subproblems are solved\");\n",
        "\n",
        "    # Fill in the rest of the DP table in a BOTTOM-UP manner\n",
        "    for i in range(1, len(x) + 1):\n",
        "        for j in range(1, len(y) + 1):\n",
        "\n",
        "            horizontal_or_insertion_cost = dp[i][j-1] + 1\n",
        "            vertical_or_deletion_cost= dp[i-1][j] + 1\n",
        "\n",
        "            delta = 2 if x[i-1] != y[j-1] else 0\n",
        "            diagonal_or_substitution_cost= dp[i-1][j-1] + delta\n",
        "\n",
        "            minValue = min(horizontal_or_insertion_cost,vertical_or_deletion_cost,diagonal_or_substitution_cost)\n",
        "            dp[i][j] = minValue\n",
        "\n",
        "\n",
        "            if (horizontal_or_insertion_cost == vertical_or_deletion_cost) and (vertical_or_deletion_cost == diagonal_or_substitution_cost ):\n",
        "              arrows[i][j] = str(dp[i][j]) + '↖←↑'\n",
        "            elif (minValue!=diagonal_or_substitution_cost) and (horizontal_or_insertion_cost == vertical_or_deletion_cost):\n",
        "              arrows[i][j] = str(dp[i][j]) +'←↑'\n",
        "            elif (minValue!=vertical_or_deletion_cost) and (horizontal_or_insertion_cost == diagonal_or_substitution_cost):\n",
        "              arrows[i][j] = str(dp[i][j]) + '↖←'\n",
        "            elif (minValue!=horizontal_or_insertion_cost) and (vertical_or_deletion_cost == diagonal_or_substitution_cost):\n",
        "              arrows[i][j] = str(dp[i][j]) + '↖↑'\n",
        "            else:\n",
        "              if minValue == horizontal_or_insertion_cost:\n",
        "                arrows[i][j] = str(dp[i][j]) + '←'\n",
        "              elif minValue == vertical_or_deletion_cost:\n",
        "                arrows[i][j] = str(dp[i][j]) + '↑'\n",
        "              else:\n",
        "                arrows[i][j] = str(dp[i][j]) + '↖'\n",
        "\n",
        "\n",
        "\n",
        "            #printTable(dp, x, y, f'row {i} , col {j}') #UNCOMMENT this line to see how the DP table is filled at each step\n",
        "\n",
        "    printTable(arrows, x, y, \"Completed DP table after all subproblems are solved\")\n",
        "\n",
        "    return dp[-1][-1]\n",
        "\n",
        "str1, str2 = \"intention\", \"execution\"\n",
        "print(f'edit distance between \"{str1}\" and \"{str2}\": {editDistDP(str1, str2)}')"
      ],
      "metadata": {
        "colab": {
          "base_uri": "https://localhost:8080/"
        },
        "id": "BkzLopvwhxwg",
        "outputId": "d1140781-0ede-4d47-df61-9f80cb3ff2e0"
      },
      "execution_count": 19,
      "outputs": [
        {
          "output_type": "stream",
          "name": "stdout",
          "text": [
            "\u001b[1mDP table after base-case (easy) subproblems are solved\n",
            "\n",
            "\u001b[0m\u001b[01m           \u001b[0m\u001b[01m         # \u001b[0m\u001b[01m         e \u001b[0m\u001b[01m         x \u001b[0m\u001b[01m         e \u001b[0m\u001b[01m         c \u001b[0m\u001b[01m         u \u001b[0m\u001b[01m         t \u001b[0m\u001b[01m         i \u001b[0m\u001b[01m         o \u001b[0m\u001b[01m         n \n",
            "\n",
            "\u001b[0m\u001b[01m         # \u001b[0m         0 \u001b[0m         1 \u001b[0m         2 \u001b[0m         3 \u001b[0m         4 \u001b[0m         5 \u001b[0m         6 \u001b[0m         7 \u001b[0m         8 \u001b[0m         9 \n",
            "\n",
            "\n",
            "\u001b[0m\u001b[01m         i \u001b[0m         1 \u001b[0m         0 \u001b[0m         0 \u001b[0m         0 \u001b[0m         0 \u001b[0m         0 \u001b[0m         0 \u001b[0m         0 \u001b[0m         0 \u001b[0m         0 \n",
            "\n",
            "\n",
            "\u001b[0m\u001b[01m         n \u001b[0m         2 \u001b[0m         0 \u001b[0m         0 \u001b[0m         0 \u001b[0m         0 \u001b[0m         0 \u001b[0m         0 \u001b[0m         0 \u001b[0m         0 \u001b[0m         0 \n",
            "\n",
            "\n",
            "\u001b[0m\u001b[01m         t \u001b[0m         3 \u001b[0m         0 \u001b[0m         0 \u001b[0m         0 \u001b[0m         0 \u001b[0m         0 \u001b[0m         0 \u001b[0m         0 \u001b[0m         0 \u001b[0m         0 \n",
            "\n",
            "\n",
            "\u001b[0m\u001b[01m         e \u001b[0m         4 \u001b[0m         0 \u001b[0m         0 \u001b[0m         0 \u001b[0m         0 \u001b[0m         0 \u001b[0m         0 \u001b[0m         0 \u001b[0m         0 \u001b[0m         0 \n",
            "\n",
            "\n",
            "\u001b[0m\u001b[01m         n \u001b[0m         5 \u001b[0m         0 \u001b[0m         0 \u001b[0m         0 \u001b[0m         0 \u001b[0m         0 \u001b[0m         0 \u001b[0m         0 \u001b[0m         0 \u001b[0m         0 \n",
            "\n",
            "\n",
            "\u001b[0m\u001b[01m         t \u001b[0m         6 \u001b[0m         0 \u001b[0m         0 \u001b[0m         0 \u001b[0m         0 \u001b[0m         0 \u001b[0m         0 \u001b[0m         0 \u001b[0m         0 \u001b[0m         0 \n",
            "\n",
            "\n",
            "\u001b[0m\u001b[01m         i \u001b[0m         7 \u001b[0m         0 \u001b[0m         0 \u001b[0m         0 \u001b[0m         0 \u001b[0m         0 \u001b[0m         0 \u001b[0m         0 \u001b[0m         0 \u001b[0m         0 \n",
            "\n",
            "\n",
            "\u001b[0m\u001b[01m         o \u001b[0m         8 \u001b[0m         0 \u001b[0m         0 \u001b[0m         0 \u001b[0m         0 \u001b[0m         0 \u001b[0m         0 \u001b[0m         0 \u001b[0m         0 \u001b[0m         0 \n",
            "\n",
            "\n",
            "\u001b[0m\u001b[01m         n \u001b[0m         9 \u001b[0m         0 \u001b[0m         0 \u001b[0m         0 \u001b[0m         0 \u001b[0m         0 \u001b[0m         0 \u001b[0m         0 \u001b[0m         0 \u001b[0m         0 \n",
            "\n",
            "\n",
            "---------------------------------------------------------------------------------------------------------------\n",
            "\u001b[1mCompleted DP table after all subproblems are solved\n",
            "\n",
            "\u001b[0m\u001b[01m           \u001b[0m\u001b[01m         # \u001b[0m\u001b[01m         e \u001b[0m\u001b[01m         x \u001b[0m\u001b[01m         e \u001b[0m\u001b[01m         c \u001b[0m\u001b[01m         u \u001b[0m\u001b[01m         t \u001b[0m\u001b[01m         i \u001b[0m\u001b[01m         o \u001b[0m\u001b[01m         n \n",
            "\n",
            "\u001b[0m\u001b[01m         # \u001b[0m         0 \u001b[0m        ←1 \u001b[0m        ←2 \u001b[0m        ←3 \u001b[0m        ←4 \u001b[0m        ←5 \u001b[0m        ←6 \u001b[0m        ←7 \u001b[0m        ←8 \u001b[0m        ←9 \n",
            "\n",
            "\n",
            "\u001b[0m\u001b[01m         i \u001b[0m        ↑1 \u001b[0m      2↖←↑ \u001b[0m      3↖←↑ \u001b[0m      4↖←↑ \u001b[0m      5↖←↑ \u001b[0m      6↖←↑ \u001b[0m      7↖←↑ \u001b[0m        6↖ \u001b[0m        7← \u001b[0m        8← \n",
            "\n",
            "\n",
            "\u001b[0m\u001b[01m         n \u001b[0m        ↑2 \u001b[0m      3↖←↑ \u001b[0m      4↖←↑ \u001b[0m      5↖←↑ \u001b[0m      6↖←↑ \u001b[0m      7↖←↑ \u001b[0m      8↖←↑ \u001b[0m        7↑ \u001b[0m      8↖←↑ \u001b[0m        7↖ \n",
            "\n",
            "\n",
            "\u001b[0m\u001b[01m         t \u001b[0m        ↑3 \u001b[0m      4↖←↑ \u001b[0m      5↖←↑ \u001b[0m      6↖←↑ \u001b[0m      7↖←↑ \u001b[0m      8↖←↑ \u001b[0m        7↖ \u001b[0m       8←↑ \u001b[0m      9↖←↑ \u001b[0m        8↑ \n",
            "\n",
            "\n",
            "\u001b[0m\u001b[01m         e \u001b[0m        ↑4 \u001b[0m        3↖ \u001b[0m        4← \u001b[0m       5↖← \u001b[0m        6← \u001b[0m        7← \u001b[0m       8←↑ \u001b[0m      9↖←↑ \u001b[0m     10↖←↑ \u001b[0m        9↑ \n",
            "\n",
            "\n",
            "\u001b[0m\u001b[01m         n \u001b[0m        ↑5 \u001b[0m        4↑ \u001b[0m      5↖←↑ \u001b[0m      6↖←↑ \u001b[0m      7↖←↑ \u001b[0m      8↖←↑ \u001b[0m      9↖←↑ \u001b[0m     10↖←↑ \u001b[0m     11↖←↑ \u001b[0m      10↖↑ \n",
            "\n",
            "\n",
            "\u001b[0m\u001b[01m         t \u001b[0m        ↑6 \u001b[0m        5↑ \u001b[0m      6↖←↑ \u001b[0m      7↖←↑ \u001b[0m      8↖←↑ \u001b[0m      9↖←↑ \u001b[0m        8↖ \u001b[0m        9← \u001b[0m       10← \u001b[0m      11←↑ \n",
            "\n",
            "\n",
            "\u001b[0m\u001b[01m         i \u001b[0m        ↑7 \u001b[0m        6↑ \u001b[0m      7↖←↑ \u001b[0m      8↖←↑ \u001b[0m      9↖←↑ \u001b[0m     10↖←↑ \u001b[0m        9↑ \u001b[0m        8↖ \u001b[0m        9← \u001b[0m       10← \n",
            "\n",
            "\n",
            "\u001b[0m\u001b[01m         o \u001b[0m        ↑8 \u001b[0m        7↑ \u001b[0m      8↖←↑ \u001b[0m      9↖←↑ \u001b[0m     10↖←↑ \u001b[0m     11↖←↑ \u001b[0m       10↑ \u001b[0m        9↑ \u001b[0m        8↖ \u001b[0m        9← \n",
            "\n",
            "\n",
            "\u001b[0m\u001b[01m         n \u001b[0m        ↑9 \u001b[0m        8↑ \u001b[0m      9↖←↑ \u001b[0m     10↖←↑ \u001b[0m     11↖←↑ \u001b[0m     12↖←↑ \u001b[0m       11↑ \u001b[0m       10↑ \u001b[0m        9↑ \u001b[0m        8↖ \n",
            "\n",
            "\n",
            "---------------------------------------------------------------------------------------------------------------\n",
            "edit distance between \"intention\" and \"execution\": 8\n"
          ]
        }
      ]
    },
    {
      "cell_type": "code",
      "source": [
        "def printBackTrace(shadow, orig, x, y, rows, cols, cost):\n",
        "    \"\"\"\n",
        "    Prints the backtrace of the edit distance calculation.\n",
        "\n",
        "    Args:\n",
        "        shadow: The shadow matrix containing the optimal operations.\n",
        "        orig: The original matrix containing the edit distances.\n",
        "        x: The source string.\n",
        "        y: The target string.\n",
        "        rows: The current row index.\n",
        "        cols: The current column index.\n",
        "        cost: The current accumulated cost.\n",
        "    \"\"\"\n",
        "\n",
        "    if rows > 0 and cols > 0:\n",
        "        # Check if indices are within bounds before accessing elements\n",
        "        inserted = orig[rows - 1][cols - 1] if rows > 0 and cols > 0 else float('inf')\n",
        "        deleted = orig[rows - 2][cols-1] if rows > 1 and cols > 0 else float('inf') # Corrected line: accessing cols-1 instead of cols for deletion\n",
        "        substituted = orig[rows - 2][cols - 1] if rows > 1 and cols > 0 else float('inf')\n",
        "\n",
        "        optimal_operation = min(inserted+1, deleted+1, substituted + (2 if x[rows - 2] != y[cols - 1] else 0))\n",
        "\n",
        "        if optimal_operation == (substituted + (2 if x[rows - 2] != y[cols - 1] else 0)):\n",
        "            operation = '↖'\n",
        "            if x[rows - 2] == y[cols - 1]:\n",
        "                op_desc = f\"sum \\\"{x[rows - 2]}\\\" with \\\"{y[cols - 1]}\\\"\"\n",
        "            else:\n",
        "                op_desc = f\"sum \\\"{x[rows - 2]}\\\" with \\\"{y[cols - 1]}\\\"\"\n",
        "            rows -= 1\n",
        "            cols -= 1\n",
        "\n",
        "        elif optimal_operation == inserted+1:\n",
        "            operation = '←'\n",
        "            op_desc = f\"Insert \\\"{y[cols - 1]}\\\"\"\n",
        "            cols -= 1\n",
        "\n",
        "        elif optimal_operation == deleted+1:\n",
        "            operation = '↑'\n",
        "            op_desc = f\"Delete \\\"{x[rows - 2]}\\\"\"\n",
        "            rows -= 1\n",
        "\n",
        "        cost = optimal_operation\n",
        "\n",
        "        print(f\"roow: {rows-1}, col:{cols} = {cost}{operation}     {op_desc}\")\n",
        "\n",
        "        printBackTrace(shadow, orig, x, y, rows, cols, cost)\n",
        "\n",
        "    else:\n",
        "        return 0"
      ],
      "metadata": {
        "id": "vMu1chbDkkyp"
      },
      "execution_count": 6,
      "outputs": []
    },
    {
      "cell_type": "code",
      "source": [
        "# Ver.2024.2\n",
        "import re\n",
        "# printTable is a helper function for formatting and printing the DP table. >>> DO NOT MODIFY <<<\n",
        "def printTable(table, x, y, description):\n",
        "    print(f'\\033[1m{description}\\n')\n",
        "    current_row = current_col = -1\n",
        "    current_row_col = re.search(\"^row ([0-9]+) , col ([0-9]+)$\",description)\n",
        "    if current_row_col:\n",
        "        current_row = int(current_row_col.group(1))\n",
        "        current_col= int(current_row_col.group(2))\n",
        "    x=\"#\"+x\n",
        "    y=\" #\"+y\n",
        "    for c in y:\n",
        "        print('\\033[0m\\033[01m' +c.rjust(10, ' '), end=' ') # reset formatting + bold and print each character, c, in the target word, y, in the heading row\n",
        "    print('\\n')\n",
        "    row_counter=0\n",
        "    for row in table:\n",
        "        print('\\033[0m\\033[01m' + x[row_counter].rjust(10, ' '), end=' ') #reset fomatting and print the character in source (x) represented by the current row\n",
        "        col_counter=0\n",
        "        for col in row:\n",
        "            if (row_counter == current_row) and (col_counter == current_col):\n",
        "                formatting = '\\033[1m'+'\\033[91m' #bold + lightred\n",
        "            else: formatting = '\\033[0m' #reset fomatting\n",
        "            print(formatting + str(col).rjust(10, ' '), end=' ')  # rjust returns a 10-characters long, right justified version of the string\n",
        "            col_counter+=1\n",
        "        row_counter+=1\n",
        "        print('\\n\\n')\n",
        "    print('---------------------------------------------------------------------------------------------------------------')\n",
        "\n",
        " # A DP-based solution for edit distance problem\n",
        "def editDistDP(x,y):\n",
        "    dp = [] # Create an empty (Dynamic Pgoramming) table to store results of\n",
        "    arrows = []\n",
        "    # fill in the table with zeros\n",
        "    for row in range(len(x) + 1):\n",
        "        dp.append([0]* (len(y) + 1))\n",
        "        arrows.append([' ']* (len(y) + 1))\n",
        "\n",
        "    # Alternatively, you can use List Comprehension to initiate the DP table in one line of code\n",
        "    # dp = [[0 for column in range(len(y) + 1)] for row in range(len(x) + 1)]\n",
        "\n",
        "    # Fill in the base case (easy) subproblems, i.e. the first row and column of the DP table\n",
        "\n",
        "    # first row: base case subproblems for computing the cost of converting \"\" to y\n",
        "    for j in range(len(y) + 1):\n",
        "        # If x is empty then the only option is to insert all the characters of y\n",
        "        # Minimum number of required operations (cost) is j insertions, where j = len(y)\n",
        "        dp[0][j] = j\n",
        "        arrows[0][j] =  '←' + str(dp[0][j])\n",
        "\n",
        "# first column: base case subproblems for computing the cost of converting x to \"\"\n",
        "    for i in range(len(x) + 1):\n",
        "        # If y is empty then the only option is to delete all the characters of x\n",
        "        # Minimum number of required operations (cost) is i deletions, where i = len(x)\n",
        "        dp[i][0] = i\n",
        "        arrows[i][0] =  '↑' + str(dp[i][0])\n",
        "\n",
        "    arrows[0][0] = str(dp[0][0])\n",
        "\n",
        "    printTable(dp, x, y, \"DP table after base-case (easy) subproblems are solved\");\n",
        "\n",
        "    # Fill in the rest of the DP table in a BOTTOM-UP manner\n",
        "    for i in range(1, len(x) + 1):\n",
        "        for j in range(1, len(y) + 1):\n",
        "\n",
        "            horizontal_or_insertion_cost = dp[i][j-1] + 1\n",
        "            vertical_or_deletion_cost= dp[i-1][j] + 1\n",
        "\n",
        "            delta = 2 if x[i-1] != y[j-1] else 0\n",
        "            diagonal_or_substitution_cost= dp[i-1][j-1] + delta\n",
        "\n",
        "            minValue = min(horizontal_or_insertion_cost,vertical_or_deletion_cost,diagonal_or_substitution_cost)\n",
        "            dp[i][j] = minValue\n",
        "\n",
        "\n",
        "            if (horizontal_or_insertion_cost == vertical_or_deletion_cost) and (vertical_or_deletion_cost == diagonal_or_substitution_cost ):\n",
        "              arrows[i][j] =  '↖←↑' + str(dp[i][j])\n",
        "            elif (minValue!=diagonal_or_substitution_cost) and (horizontal_or_insertion_cost == vertical_or_deletion_cost):\n",
        "              arrows[i][j] =  '←↑' + str(dp[i][j])\n",
        "            elif (minValue!=vertical_or_deletion_cost) and (horizontal_or_insertion_cost == diagonal_or_substitution_cost):\n",
        "              arrows[i][j] =  '↖←' + str(dp[i][j])\n",
        "            elif (minValue!=horizontal_or_insertion_cost) and (vertical_or_deletion_cost == diagonal_or_substitution_cost):\n",
        "              arrows[i][j] = '↖↑' + str(dp[i][j])\n",
        "            else:\n",
        "              if minValue == horizontal_or_insertion_cost:\n",
        "                arrows[i][j] =  '←' + str(dp[i][j])\n",
        "              elif minValue == vertical_or_deletion_cost:\n",
        "                arrows[i][j] = '↑' + str(dp[i][j])\n",
        "              else:\n",
        "                arrows[i][j] ='↖' +  str(dp[i][j])\n",
        "\n",
        "\n",
        "\n",
        "            #printTable(dp, x, y, f'row {i} , col {j}') #UNCOMMENT this line to see how the DP table is filled at each step\n",
        "\n",
        "    printTable(arrows, x, y, \"Completed DP table after all subproblems are solved\")\n",
        "\n",
        "    # Call printBackTrace with all required arguments\n",
        "    printBackTrace(arrows, dp, x, y, len(x) + 1, len(y) + 1, dp[-1][-1]) # Pass rows, cols, and cost\n",
        "\n",
        "\n",
        "    return dp[-1][-1]\n",
        "\n",
        "str1, str2 = \"intention\", \"execution\"\n",
        "print(f'edit distance between \"{str1}\" and \"{str2}\": {editDistDP(str1, str2)}')"
      ],
      "metadata": {
        "colab": {
          "base_uri": "https://localhost:8080/",
          "height": 1000
        },
        "id": "btNKcURERa1X",
        "outputId": "eb3706d8-9543-427b-b982-a89795f4b64a"
      },
      "execution_count": 7,
      "outputs": [
        {
          "output_type": "stream",
          "name": "stdout",
          "text": [
            "\u001b[1mDP table after base-case (easy) subproblems are solved\n",
            "\n",
            "\u001b[0m\u001b[01m           \u001b[0m\u001b[01m         # \u001b[0m\u001b[01m         e \u001b[0m\u001b[01m         x \u001b[0m\u001b[01m         e \u001b[0m\u001b[01m         c \u001b[0m\u001b[01m         u \u001b[0m\u001b[01m         t \u001b[0m\u001b[01m         i \u001b[0m\u001b[01m         o \u001b[0m\u001b[01m         n \n",
            "\n",
            "\u001b[0m\u001b[01m         # \u001b[0m         0 \u001b[0m         1 \u001b[0m         2 \u001b[0m         3 \u001b[0m         4 \u001b[0m         5 \u001b[0m         6 \u001b[0m         7 \u001b[0m         8 \u001b[0m         9 \n",
            "\n",
            "\n",
            "\u001b[0m\u001b[01m         i \u001b[0m         1 \u001b[0m         0 \u001b[0m         0 \u001b[0m         0 \u001b[0m         0 \u001b[0m         0 \u001b[0m         0 \u001b[0m         0 \u001b[0m         0 \u001b[0m         0 \n",
            "\n",
            "\n",
            "\u001b[0m\u001b[01m         n \u001b[0m         2 \u001b[0m         0 \u001b[0m         0 \u001b[0m         0 \u001b[0m         0 \u001b[0m         0 \u001b[0m         0 \u001b[0m         0 \u001b[0m         0 \u001b[0m         0 \n",
            "\n",
            "\n",
            "\u001b[0m\u001b[01m         t \u001b[0m         3 \u001b[0m         0 \u001b[0m         0 \u001b[0m         0 \u001b[0m         0 \u001b[0m         0 \u001b[0m         0 \u001b[0m         0 \u001b[0m         0 \u001b[0m         0 \n",
            "\n",
            "\n",
            "\u001b[0m\u001b[01m         e \u001b[0m         4 \u001b[0m         0 \u001b[0m         0 \u001b[0m         0 \u001b[0m         0 \u001b[0m         0 \u001b[0m         0 \u001b[0m         0 \u001b[0m         0 \u001b[0m         0 \n",
            "\n",
            "\n",
            "\u001b[0m\u001b[01m         n \u001b[0m         5 \u001b[0m         0 \u001b[0m         0 \u001b[0m         0 \u001b[0m         0 \u001b[0m         0 \u001b[0m         0 \u001b[0m         0 \u001b[0m         0 \u001b[0m         0 \n",
            "\n",
            "\n",
            "\u001b[0m\u001b[01m         t \u001b[0m         6 \u001b[0m         0 \u001b[0m         0 \u001b[0m         0 \u001b[0m         0 \u001b[0m         0 \u001b[0m         0 \u001b[0m         0 \u001b[0m         0 \u001b[0m         0 \n",
            "\n",
            "\n",
            "\u001b[0m\u001b[01m         i \u001b[0m         7 \u001b[0m         0 \u001b[0m         0 \u001b[0m         0 \u001b[0m         0 \u001b[0m         0 \u001b[0m         0 \u001b[0m         0 \u001b[0m         0 \u001b[0m         0 \n",
            "\n",
            "\n",
            "\u001b[0m\u001b[01m         o \u001b[0m         8 \u001b[0m         0 \u001b[0m         0 \u001b[0m         0 \u001b[0m         0 \u001b[0m         0 \u001b[0m         0 \u001b[0m         0 \u001b[0m         0 \u001b[0m         0 \n",
            "\n",
            "\n",
            "\u001b[0m\u001b[01m         n \u001b[0m         9 \u001b[0m         0 \u001b[0m         0 \u001b[0m         0 \u001b[0m         0 \u001b[0m         0 \u001b[0m         0 \u001b[0m         0 \u001b[0m         0 \u001b[0m         0 \n",
            "\n",
            "\n",
            "---------------------------------------------------------------------------------------------------------------\n",
            "\u001b[1mCompleted DP table after all subproblems are solved\n",
            "\n",
            "\u001b[0m\u001b[01m           \u001b[0m\u001b[01m         # \u001b[0m\u001b[01m         e \u001b[0m\u001b[01m         x \u001b[0m\u001b[01m         e \u001b[0m\u001b[01m         c \u001b[0m\u001b[01m         u \u001b[0m\u001b[01m         t \u001b[0m\u001b[01m         i \u001b[0m\u001b[01m         o \u001b[0m\u001b[01m         n \n",
            "\n",
            "\u001b[0m\u001b[01m         # \u001b[0m         0 \u001b[0m        ←1 \u001b[0m        ←2 \u001b[0m        ←3 \u001b[0m        ←4 \u001b[0m        ←5 \u001b[0m        ←6 \u001b[0m        ←7 \u001b[0m        ←8 \u001b[0m        ←9 \n",
            "\n",
            "\n",
            "\u001b[0m\u001b[01m         i \u001b[0m        ↑1 \u001b[0m      ↖←↑2 \u001b[0m      ↖←↑3 \u001b[0m      ↖←↑4 \u001b[0m      ↖←↑5 \u001b[0m      ↖←↑6 \u001b[0m      ↖←↑7 \u001b[0m        ↖6 \u001b[0m        ←7 \u001b[0m        ←8 \n",
            "\n",
            "\n",
            "\u001b[0m\u001b[01m         n \u001b[0m        ↑2 \u001b[0m      ↖←↑3 \u001b[0m      ↖←↑4 \u001b[0m      ↖←↑5 \u001b[0m      ↖←↑6 \u001b[0m      ↖←↑7 \u001b[0m      ↖←↑8 \u001b[0m        ↑7 \u001b[0m      ↖←↑8 \u001b[0m        ↖7 \n",
            "\n",
            "\n",
            "\u001b[0m\u001b[01m         t \u001b[0m        ↑3 \u001b[0m      ↖←↑4 \u001b[0m      ↖←↑5 \u001b[0m      ↖←↑6 \u001b[0m      ↖←↑7 \u001b[0m      ↖←↑8 \u001b[0m        ↖7 \u001b[0m       ←↑8 \u001b[0m      ↖←↑9 \u001b[0m        ↑8 \n",
            "\n",
            "\n",
            "\u001b[0m\u001b[01m         e \u001b[0m        ↑4 \u001b[0m        ↖3 \u001b[0m        ←4 \u001b[0m       ↖←5 \u001b[0m        ←6 \u001b[0m        ←7 \u001b[0m       ←↑8 \u001b[0m      ↖←↑9 \u001b[0m     ↖←↑10 \u001b[0m        ↑9 \n",
            "\n",
            "\n",
            "\u001b[0m\u001b[01m         n \u001b[0m        ↑5 \u001b[0m        ↑4 \u001b[0m      ↖←↑5 \u001b[0m      ↖←↑6 \u001b[0m      ↖←↑7 \u001b[0m      ↖←↑8 \u001b[0m      ↖←↑9 \u001b[0m     ↖←↑10 \u001b[0m     ↖←↑11 \u001b[0m      ↖↑10 \n",
            "\n",
            "\n",
            "\u001b[0m\u001b[01m         t \u001b[0m        ↑6 \u001b[0m        ↑5 \u001b[0m      ↖←↑6 \u001b[0m      ↖←↑7 \u001b[0m      ↖←↑8 \u001b[0m      ↖←↑9 \u001b[0m        ↖8 \u001b[0m        ←9 \u001b[0m       ←10 \u001b[0m      ←↑11 \n",
            "\n",
            "\n",
            "\u001b[0m\u001b[01m         i \u001b[0m        ↑7 \u001b[0m        ↑6 \u001b[0m      ↖←↑7 \u001b[0m      ↖←↑8 \u001b[0m      ↖←↑9 \u001b[0m     ↖←↑10 \u001b[0m        ↑9 \u001b[0m        ↖8 \u001b[0m        ←9 \u001b[0m       ←10 \n",
            "\n",
            "\n",
            "\u001b[0m\u001b[01m         o \u001b[0m        ↑8 \u001b[0m        ↑7 \u001b[0m      ↖←↑8 \u001b[0m      ↖←↑9 \u001b[0m     ↖←↑10 \u001b[0m     ↖←↑11 \u001b[0m       ↑10 \u001b[0m        ↑9 \u001b[0m        ↖8 \u001b[0m        ←9 \n",
            "\n",
            "\n",
            "\u001b[0m\u001b[01m         n \u001b[0m        ↑9 \u001b[0m        ↑8 \u001b[0m      ↖←↑9 \u001b[0m     ↖←↑10 \u001b[0m     ↖←↑11 \u001b[0m     ↖←↑12 \u001b[0m       ↑11 \u001b[0m       ↑10 \u001b[0m        ↑9 \u001b[0m        ↖8 \n",
            "\n",
            "\n",
            "---------------------------------------------------------------------------------------------------------------\n"
          ]
        },
        {
          "output_type": "error",
          "ename": "IndexError",
          "evalue": "string index out of range",
          "traceback": [
            "\u001b[0;31m---------------------------------------------------------------------------\u001b[0m",
            "\u001b[0;31mIndexError\u001b[0m                                Traceback (most recent call last)",
            "\u001b[0;32m<ipython-input-7-26972bab3d77>\u001b[0m in \u001b[0;36m<cell line: 105>\u001b[0;34m()\u001b[0m\n\u001b[1;32m    103\u001b[0m \u001b[0;34m\u001b[0m\u001b[0m\n\u001b[1;32m    104\u001b[0m \u001b[0mstr1\u001b[0m\u001b[0;34m,\u001b[0m \u001b[0mstr2\u001b[0m \u001b[0;34m=\u001b[0m \u001b[0;34m\"intention\"\u001b[0m\u001b[0;34m,\u001b[0m \u001b[0;34m\"execution\"\u001b[0m\u001b[0;34m\u001b[0m\u001b[0;34m\u001b[0m\u001b[0m\n\u001b[0;32m--> 105\u001b[0;31m \u001b[0mprint\u001b[0m\u001b[0;34m(\u001b[0m\u001b[0;34mf'edit distance between \"{str1}\" and \"{str2}\": {editDistDP(str1, str2)}'\u001b[0m\u001b[0;34m)\u001b[0m\u001b[0;34m\u001b[0m\u001b[0;34m\u001b[0m\u001b[0m\n\u001b[0m",
            "\u001b[0;32m<ipython-input-7-26972bab3d77>\u001b[0m in \u001b[0;36meditDistDP\u001b[0;34m(x, y)\u001b[0m\n\u001b[1;32m     97\u001b[0m \u001b[0;34m\u001b[0m\u001b[0m\n\u001b[1;32m     98\u001b[0m     \u001b[0;31m# Call printBackTrace with all required arguments\u001b[0m\u001b[0;34m\u001b[0m\u001b[0;34m\u001b[0m\u001b[0m\n\u001b[0;32m---> 99\u001b[0;31m     \u001b[0mprintBackTrace\u001b[0m\u001b[0;34m(\u001b[0m\u001b[0marrows\u001b[0m\u001b[0;34m,\u001b[0m \u001b[0mdp\u001b[0m\u001b[0;34m,\u001b[0m \u001b[0mx\u001b[0m\u001b[0;34m,\u001b[0m \u001b[0my\u001b[0m\u001b[0;34m,\u001b[0m \u001b[0mlen\u001b[0m\u001b[0;34m(\u001b[0m\u001b[0mx\u001b[0m\u001b[0;34m)\u001b[0m \u001b[0;34m+\u001b[0m \u001b[0;36m1\u001b[0m\u001b[0;34m,\u001b[0m \u001b[0mlen\u001b[0m\u001b[0;34m(\u001b[0m\u001b[0my\u001b[0m\u001b[0;34m)\u001b[0m \u001b[0;34m+\u001b[0m \u001b[0;36m1\u001b[0m\u001b[0;34m,\u001b[0m \u001b[0mdp\u001b[0m\u001b[0;34m[\u001b[0m\u001b[0;34m-\u001b[0m\u001b[0;36m1\u001b[0m\u001b[0;34m]\u001b[0m\u001b[0;34m[\u001b[0m\u001b[0;34m-\u001b[0m\u001b[0;36m1\u001b[0m\u001b[0;34m]\u001b[0m\u001b[0;34m)\u001b[0m \u001b[0;31m# Pass rows, cols, and cost\u001b[0m\u001b[0;34m\u001b[0m\u001b[0;34m\u001b[0m\u001b[0m\n\u001b[0m\u001b[1;32m    100\u001b[0m \u001b[0;34m\u001b[0m\u001b[0m\n\u001b[1;32m    101\u001b[0m \u001b[0;34m\u001b[0m\u001b[0m\n",
            "\u001b[0;32m<ipython-input-6-ffa5cf8cad37>\u001b[0m in \u001b[0;36mprintBackTrace\u001b[0;34m(shadow, orig, x, y, rows, cols, cost)\u001b[0m\n\u001b[1;32m     19\u001b[0m         \u001b[0msubstituted\u001b[0m \u001b[0;34m=\u001b[0m \u001b[0morig\u001b[0m\u001b[0;34m[\u001b[0m\u001b[0mrows\u001b[0m \u001b[0;34m-\u001b[0m \u001b[0;36m2\u001b[0m\u001b[0;34m]\u001b[0m\u001b[0;34m[\u001b[0m\u001b[0mcols\u001b[0m \u001b[0;34m-\u001b[0m \u001b[0;36m1\u001b[0m\u001b[0;34m]\u001b[0m \u001b[0;32mif\u001b[0m \u001b[0mrows\u001b[0m \u001b[0;34m>\u001b[0m \u001b[0;36m1\u001b[0m \u001b[0;32mand\u001b[0m \u001b[0mcols\u001b[0m \u001b[0;34m>\u001b[0m \u001b[0;36m0\u001b[0m \u001b[0;32melse\u001b[0m \u001b[0mfloat\u001b[0m\u001b[0;34m(\u001b[0m\u001b[0;34m'inf'\u001b[0m\u001b[0;34m)\u001b[0m\u001b[0;34m\u001b[0m\u001b[0;34m\u001b[0m\u001b[0m\n\u001b[1;32m     20\u001b[0m \u001b[0;34m\u001b[0m\u001b[0m\n\u001b[0;32m---> 21\u001b[0;31m         \u001b[0moptimal_operation\u001b[0m \u001b[0;34m=\u001b[0m \u001b[0mmin\u001b[0m\u001b[0;34m(\u001b[0m\u001b[0minserted\u001b[0m\u001b[0;34m+\u001b[0m\u001b[0;36m1\u001b[0m\u001b[0;34m,\u001b[0m \u001b[0mdeleted\u001b[0m\u001b[0;34m+\u001b[0m\u001b[0;36m1\u001b[0m\u001b[0;34m,\u001b[0m \u001b[0msubstituted\u001b[0m \u001b[0;34m+\u001b[0m \u001b[0;34m(\u001b[0m\u001b[0;36m2\u001b[0m \u001b[0;32mif\u001b[0m \u001b[0mx\u001b[0m\u001b[0;34m[\u001b[0m\u001b[0mrows\u001b[0m \u001b[0;34m-\u001b[0m \u001b[0;36m2\u001b[0m\u001b[0;34m]\u001b[0m \u001b[0;34m!=\u001b[0m \u001b[0my\u001b[0m\u001b[0;34m[\u001b[0m\u001b[0mcols\u001b[0m \u001b[0;34m-\u001b[0m \u001b[0;36m1\u001b[0m\u001b[0;34m]\u001b[0m \u001b[0;32melse\u001b[0m \u001b[0;36m0\u001b[0m\u001b[0;34m)\u001b[0m\u001b[0;34m)\u001b[0m\u001b[0;34m\u001b[0m\u001b[0;34m\u001b[0m\u001b[0m\n\u001b[0m\u001b[1;32m     22\u001b[0m \u001b[0;34m\u001b[0m\u001b[0m\n\u001b[1;32m     23\u001b[0m         \u001b[0;32mif\u001b[0m \u001b[0moptimal_operation\u001b[0m \u001b[0;34m==\u001b[0m \u001b[0;34m(\u001b[0m\u001b[0msubstituted\u001b[0m \u001b[0;34m+\u001b[0m \u001b[0;34m(\u001b[0m\u001b[0;36m2\u001b[0m \u001b[0;32mif\u001b[0m \u001b[0mx\u001b[0m\u001b[0;34m[\u001b[0m\u001b[0mrows\u001b[0m \u001b[0;34m-\u001b[0m \u001b[0;36m2\u001b[0m\u001b[0;34m]\u001b[0m \u001b[0;34m!=\u001b[0m \u001b[0my\u001b[0m\u001b[0;34m[\u001b[0m\u001b[0mcols\u001b[0m \u001b[0;34m-\u001b[0m \u001b[0;36m1\u001b[0m\u001b[0;34m]\u001b[0m \u001b[0;32melse\u001b[0m \u001b[0;36m0\u001b[0m\u001b[0;34m)\u001b[0m\u001b[0;34m)\u001b[0m\u001b[0;34m:\u001b[0m\u001b[0;34m\u001b[0m\u001b[0;34m\u001b[0m\u001b[0m\n",
            "\u001b[0;31mIndexError\u001b[0m: string index out of range"
          ]
        }
      ]
    }
  ]
}
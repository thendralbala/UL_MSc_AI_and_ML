{
  "cells": [
    {
      "cell_type": "markdown",
      "metadata": {
        "id": "Pmef3Bx6swfI"
      },
      "source": [
        "### Your details"
      ]
    },
    {
      "cell_type": "markdown",
      "metadata": {
        "id": "yK_5TZ15swfK"
      },
      "source": [
        "Your Name:Thendral Muthumeena Balakrishnan"
      ]
    },
    {
      "cell_type": "markdown",
      "metadata": {
        "id": "QICkfZbVswfK"
      },
      "source": [
        "Your ID number: 24128902"
      ]
    },
    {
      "cell_type": "markdown",
      "metadata": {
        "id": "jbSX1k9uswfL"
      },
      "source": [
        "# **Task 1 - Linear Algebra**"
      ]
    },
    {
      "cell_type": "markdown",
      "source": [
        "# Scalar Multiplication of a Vector"
      ],
      "metadata": {
        "id": "lkmxW_aW3NO0"
      }
    },
    {
      "cell_type": "markdown",
      "source": [
        "Multiplying each element of a vector by a scalar\n",
        "       \n",
        "\n",
        "    Input:\n",
        "       1. A Vector (list of numbers): The vector to be scaled.\n",
        "       2. A Scalar (number): The scalar to multiply with.\n",
        "        \n",
        "    Output:\n",
        "       1. Scaled Vector (list of numbers): The resulting vector after scaling by the given factor.\n",
        "\n",
        "    Approach:\n",
        "      Iterate over each element of the input vector, multiply the elemnt by the scalar and append to the result list.\n",
        "\n",
        "    Example:\n",
        "      For the following input -\n",
        "      vector: [1,2,3,4] , scalar: 2\n",
        "\n",
        "      The output should be -\n",
        "      scaled_vector: [2,4,6,8]\n",
        "    \n",
        "\n",
        "\n",
        "\n",
        "\n",
        "\n",
        "\n",
        "\n",
        "\n",
        "\n",
        "\n",
        "\n",
        "\n"
      ],
      "metadata": {
        "id": "Va6E0LsPv307"
      }
    },
    {
      "cell_type": "code",
      "source": [
        "# Function to execute scalar multiplication and return the scaled\n",
        "def scalar_multiplication(vector, scalar):\n",
        "  # Create an empty list to store the result\n",
        "  scaled_vector = []\n",
        "\n",
        "  #loop over each element in the list\n",
        "  for element in vector:\n",
        "    # Multiply each element by the given scalar and append to the result list\n",
        "    scaled_vector.append(element*scalar)\n",
        "\n",
        "  return scaled_vector"
      ],
      "metadata": {
        "id": "uT-jCj3zwH9p"
      },
      "execution_count": null,
      "outputs": []
    },
    {
      "cell_type": "markdown",
      "source": [
        "  **Test Cases:**"
      ],
      "metadata": {
        "id": "RsbOp9Qc0Z7O"
      }
    },
    {
      "cell_type": "code",
      "source": [
        "vector = [1,2,3,4]\n",
        "scalar = 2\n",
        "print(scalar_multiplication(vector,scalar))"
      ],
      "metadata": {
        "colab": {
          "base_uri": "https://localhost:8080/"
        },
        "id": "EdbBgHHT0qL_",
        "outputId": "0ba07370-b99d-4254-e03a-72d707c45719"
      },
      "execution_count": null,
      "outputs": [
        {
          "output_type": "stream",
          "name": "stdout",
          "text": [
            "[2, 4, 6, 8]\n"
          ]
        }
      ]
    },
    {
      "cell_type": "code",
      "source": [
        "vector = [5,7,6,2,3,1]\n",
        "scalar = 9\n",
        "print(scalar_multiplication(vector,scalar))"
      ],
      "metadata": {
        "colab": {
          "base_uri": "https://localhost:8080/"
        },
        "id": "dlmOw2283kdf",
        "outputId": "7aa4200a-bcfb-4151-c91f-997703395f53"
      },
      "execution_count": null,
      "outputs": [
        {
          "output_type": "stream",
          "name": "stdout",
          "text": [
            "[45, 63, 54, 18, 27, 9]\n"
          ]
        }
      ]
    },
    {
      "cell_type": "markdown",
      "source": [
        "# Addition and Subtraction of Two Vectors"
      ],
      "metadata": {
        "id": "7VjNp90q3xkm"
      }
    },
    {
      "cell_type": "markdown",
      "source": [
        "Adding or subtracting two vectors of the same size\n",
        "       \n",
        "\n",
        "    Input:\n",
        "       1. A Vector (list of numbers): The first vector.\n",
        "       2. A Vector (list of numbers): The second vector.\n",
        "       3. Operation (str): Operation to perform ('add' or 'subtract').\n",
        "        \n",
        "    Output:\n",
        "       1. A Vector (list of numbers): Resulting vector after the operation.\n",
        "\n",
        "    Approach:\n",
        "      Iterate through each element of the vectors. For each index, add or subtract the corresponding elements of the vectors based on the specified operation.\n",
        "\n",
        "    Example:\n",
        "      For the following input -\n",
        "      vector1: [2,4,6,8] , vector2: [1,2,3,4], operation: 'add'\n",
        "\n",
        "      The output should be -\n",
        "      result: [3,6,9,12]\n",
        "    \n",
        "\n",
        "\n",
        "\n",
        "\n",
        "\n",
        "\n",
        "\n",
        "\n",
        "\n",
        "\n",
        "\n",
        "\n"
      ],
      "metadata": {
        "id": "rrlxZpTN5BK3"
      }
    },
    {
      "cell_type": "code",
      "source": [
        "#Function to add/ subtract two vectors\n",
        "#setting the default operation to add\n",
        "import sys\n",
        "def vector_operation(vector1, vector2, operation = 'add'):\n",
        "\n",
        "  #check if both vectors are of the same size, if not, raise an error\n",
        "  if len(vector1) != len(vector2):\n",
        "    sys.exit(\"Vectors must have the same size\")\n",
        "\n",
        "  # Initialize the result vector\n",
        "  result = []\n",
        "\n",
        "  for i in range (len(vector1)):\n",
        "    if operation == 'add':\n",
        "      result.append(vector1[i] + vector2[i])\n",
        "    elif operation == 'subtract':\n",
        "      result.append(vector1[i] - vector2[i])\n",
        "    else:\n",
        "      sys.exit(\"Invalid Operation. Use 'add' or 'subtract'.\")\n",
        "\n",
        "  return result\n",
        "\n"
      ],
      "metadata": {
        "id": "1-H669917Isr"
      },
      "execution_count": null,
      "outputs": []
    },
    {
      "cell_type": "markdown",
      "source": [
        "Test Cases:"
      ],
      "metadata": {
        "id": "v2s0Krb_8exu"
      }
    },
    {
      "cell_type": "code",
      "source": [
        "#1. Add two vectors\n",
        "\n",
        "vector1 = [1,2,3,4]\n",
        "vector2 = [1.5,2.7,6,7]\n",
        "\n",
        "print(vector_operation(vector1, vector2, 'add'))"
      ],
      "metadata": {
        "colab": {
          "base_uri": "https://localhost:8080/"
        },
        "id": "CsFKDLLe9V__",
        "outputId": "88e34367-4f8c-499c-b657-05de260356b7"
      },
      "execution_count": null,
      "outputs": [
        {
          "output_type": "stream",
          "name": "stdout",
          "text": [
            "[2.5, 4.7, 9, 11]\n"
          ]
        }
      ]
    },
    {
      "cell_type": "code",
      "source": [
        "#2. Subtract two vectors\n",
        "\n",
        "vector1 = [4,4,6,2]\n",
        "vector2 = [8,2,1,2]\n",
        "\n",
        "print(vector_operation(vector1, vector2, 'subtract'))"
      ],
      "metadata": {
        "colab": {
          "base_uri": "https://localhost:8080/"
        },
        "id": "VO1FmJNY90DV",
        "outputId": "2c3de59e-34d8-4b77-f831-39ee977097ad"
      },
      "execution_count": null,
      "outputs": [
        {
          "output_type": "stream",
          "name": "stdout",
          "text": [
            "[-4, 2, 5, 0]\n"
          ]
        }
      ]
    },
    {
      "cell_type": "code",
      "source": [
        "#3. Error handling in case of unequal vector sizes\n",
        "\n",
        "vector1 = [1,2,3,4]\n",
        "vector2 = [5,6]\n",
        "\n",
        "print(vector_operation(vector1, vector2,'add'))"
      ],
      "metadata": {
        "colab": {
          "base_uri": "https://localhost:8080/",
          "height": 92
        },
        "id": "45a-v1D28jsF",
        "outputId": "14fb38a4-2fbd-444c-b73c-c782e243dacb"
      },
      "execution_count": null,
      "outputs": [
        {
          "output_type": "error",
          "ename": "SystemExit",
          "evalue": "Vectors must have the same size",
          "traceback": [
            "An exception has occurred, use %tb to see the full traceback.\n",
            "\u001b[0;31mSystemExit\u001b[0m\u001b[0;31m:\u001b[0m Vectors must have the same size\n"
          ]
        }
      ]
    },
    {
      "cell_type": "code",
      "source": [
        "#4. Error handling in case of wring operation\n",
        "\n",
        "vector1 = [1,2,3,4]\n",
        "vector2 = [5,6,7,8]\n",
        "\n",
        "print(vector_operation(vector1, vector2,'subtr'))"
      ],
      "metadata": {
        "id": "BlqkYERw89-S"
      },
      "execution_count": null,
      "outputs": []
    },
    {
      "cell_type": "markdown",
      "source": [
        "# Dot Product of Two Vectors"
      ],
      "metadata": {
        "id": "mfdAhrP6-Pry"
      }
    },
    {
      "cell_type": "markdown",
      "source": [
        "Computing the dot product two vectors\n",
        "       \n",
        "\n",
        "    Input:\n",
        "       1. A Vector (list of numbers): The first vector.\n",
        "       2. A Vector (list of numbers): The second vector.\n",
        "        \n",
        "    Output:\n",
        "       1. Dot Product (a number): The dot product of the two vectors\n",
        "    Approach:\n",
        "      Iterate through each index of the vectors. For each index, multiply the corresponding elements of vector1 and vector2 and accumulate the result in dot_product.\n",
        "\n",
        "    Example:\n",
        "      For the following input -\n",
        "      vector1: [1,2,3] , vector2: [4,5,6]\n",
        "\n",
        "      The output should be -\n",
        "      result: 32\n",
        "\n",
        "      Calculation:\n",
        "      result = 1*4 + 2*5 + 3*6\n",
        "                  = 32\n",
        "    \n",
        "\n",
        "\n",
        "\n",
        "\n",
        "\n",
        "\n",
        "\n",
        "\n",
        "\n",
        "\n",
        "\n",
        "\n"
      ],
      "metadata": {
        "id": "4ItqWrQ8_eGH"
      }
    },
    {
      "cell_type": "code",
      "source": [
        "# Function to calculate the dot product of two numbers\n",
        "def dot_product(vector1, vector2):\n",
        "\n",
        "  #Ensure both vectors are of the same length\n",
        "  if len(vector1) != len(vector2):\n",
        "    sys.exit(\"Vectors must have the same length\")\n",
        "\n",
        "  #Initialize the result\n",
        "  result = 0\n",
        "\n",
        "  #Calculate the dot product\n",
        "  for i in range(len(vector1)):\n",
        "    result += vector1[i] * vector2[i]\n",
        "\n",
        "  return result"
      ],
      "metadata": {
        "id": "6xzlUGbEKQYH"
      },
      "execution_count": null,
      "outputs": []
    },
    {
      "cell_type": "markdown",
      "source": [
        "Test Cases:"
      ],
      "metadata": {
        "id": "xNxRseW7LKGe"
      }
    },
    {
      "cell_type": "code",
      "source": [
        "vector1 = [1,2,3]\n",
        "vector2 = [4,5,6]\n",
        "\n",
        "print(dot_product(vector1,vector2))"
      ],
      "metadata": {
        "colab": {
          "base_uri": "https://localhost:8080/"
        },
        "id": "XM_KWyYlLNWy",
        "outputId": "6f4b5148-8a2b-459c-aac7-70b0d24c1763"
      },
      "execution_count": null,
      "outputs": [
        {
          "output_type": "stream",
          "name": "stdout",
          "text": [
            "32\n"
          ]
        }
      ]
    },
    {
      "cell_type": "code",
      "source": [
        "#To test the case of unequal vector sizes\n",
        "\n",
        "vector1 = [1,2,3]\n",
        "vector2 = [4,5]\n",
        "\n",
        "print(dot_product(vector1,vector2))"
      ],
      "metadata": {
        "colab": {
          "base_uri": "https://localhost:8080/",
          "height": 92
        },
        "id": "sGT8MtMqLeRf",
        "outputId": "f69f78b7-281e-49c3-9f51-66945e603fb0"
      },
      "execution_count": null,
      "outputs": [
        {
          "output_type": "error",
          "ename": "SystemExit",
          "evalue": "Vectors must have the same length",
          "traceback": [
            "An exception has occurred, use %tb to see the full traceback.\n",
            "\u001b[0;31mSystemExit\u001b[0m\u001b[0;31m:\u001b[0m Vectors must have the same length\n"
          ]
        }
      ]
    },
    {
      "cell_type": "markdown",
      "source": [
        "# Vector Cross Product"
      ],
      "metadata": {
        "id": "q3scBQI0LqsD"
      }
    },
    {
      "cell_type": "markdown",
      "source": [
        "Computing the cross product two 3D vectors\n",
        "       \n",
        "\n",
        "    Input:\n",
        "       1. A Vector (list of numbers): The first vector.\n",
        "       2. A Vector (list of numbers): The second vector.\n",
        "        \n",
        "    Output:\n",
        "       1. Cross Product (list of numbers): The cross product of the two vectors\n",
        "    Approach:\n",
        "      The following cross product formula is applied to calculate the x,y and z components of the resultant vector:\n",
        "       result_x = vector1_y*vector2_z - vector1_z*vector2_y\n",
        "       result_y = vector1_z*vector2_x - vector1_x*vector2_z\n",
        "       result_z = vector1_x*vector2_y - vector1_y*vector2_x\n",
        "\n",
        "\n",
        "    Example:\n",
        "      For the following input -\n",
        "      vector1: [1,2,3] , vector2: [4,5,6]\n",
        "\n",
        "      The output should be -\n",
        "      result: [-3,6,-3]\n",
        "\n",
        "      Calculation:\n",
        "      result_x = 2*6 - 3*5 = -3\n",
        "      result_y = 3*4 - 1*6 = 6\n",
        "      result_z = 1*5 - 2*4 = -3\n",
        "    \n",
        "\n",
        "\n",
        "\n",
        "\n",
        "\n",
        "\n",
        "\n",
        "\n",
        "\n",
        "\n",
        "\n",
        "\n"
      ],
      "metadata": {
        "id": "LvBbSJEkL0uI"
      }
    },
    {
      "cell_type": "code",
      "source": [
        "# Function to compute vector cross product\n",
        "def cross_product(vector1, vector2):\n",
        "\n",
        "  #Ensure both are 3D vectors\n",
        "  if len(vector1) != 3 or len(vector2) != 3:\n",
        "    sys.exit(\"Both Vectors must be 3-Dimensional\")\n",
        "\n",
        "  #Initialize result\n",
        "  result = [0,0,0]\n",
        "\n",
        "  #Compute the cross product\n",
        "  result[0] = vector1[1]*vector2[2] - vector1[2]*vector2[1]\n",
        "  result[1] = vector1[2]*vector2[0] - vector1[0]*vector2[2]\n",
        "  result[2] = vector1[0]*vector2[1] - vector1[1]*vector2[0]\n",
        "\n",
        "  return result"
      ],
      "metadata": {
        "id": "01yOJMdKOVpJ"
      },
      "execution_count": null,
      "outputs": []
    },
    {
      "cell_type": "markdown",
      "source": [
        "Test Cases"
      ],
      "metadata": {
        "id": "nuAOPlWrPXQp"
      }
    },
    {
      "cell_type": "code",
      "source": [
        "vector1 = [1,2,3]\n",
        "vector2 = [4,5,6]\n",
        "\n",
        "print(cross_product(vector1,vector2))"
      ],
      "metadata": {
        "colab": {
          "base_uri": "https://localhost:8080/"
        },
        "id": "qG1fkqgSPWkE",
        "outputId": "62f18dc3-0427-4eae-f685-084f800a20a3"
      },
      "execution_count": null,
      "outputs": [
        {
          "output_type": "stream",
          "name": "stdout",
          "text": [
            "[-3, 6, -3]\n"
          ]
        }
      ]
    },
    {
      "cell_type": "code",
      "source": [
        "#To test the cases of unequal vector sizes\n",
        "\n",
        "vector1 = [1,2,3]\n",
        "vector2 = [4,5]\n",
        "\n",
        "print(cross_product(vector1,vector2))"
      ],
      "metadata": {
        "colab": {
          "base_uri": "https://localhost:8080/",
          "height": 92
        },
        "id": "xDTvwXnoP2Ks",
        "outputId": "edf103fb-8013-42ae-fc6b-5d56e58bd5a4"
      },
      "execution_count": null,
      "outputs": [
        {
          "output_type": "error",
          "ename": "SystemExit",
          "evalue": "Both Vectors must be 3-Dimensional",
          "traceback": [
            "An exception has occurred, use %tb to see the full traceback.\n",
            "\u001b[0;31mSystemExit\u001b[0m\u001b[0;31m:\u001b[0m Both Vectors must be 3-Dimensional\n"
          ]
        }
      ]
    },
    {
      "cell_type": "markdown",
      "source": [
        "# Calculate Matrix Size"
      ],
      "metadata": {
        "id": "jBnvSWuHQRSS"
      }
    },
    {
      "cell_type": "markdown",
      "source": [
        "Calculate and return the size of a matrix as a 2-dimensional tuple\n",
        "       \n",
        "\n",
        "    Input:\n",
        "       1. A Matrix (list of lists): The matrix whose size is to be determined.  \n",
        "    Output:\n",
        "       1. Size (tuple (rows, columns)): A 2-dimensional tuple (rows, columns) representing the size of the matrix\n",
        "    Approach:\n",
        "      The length of any list is determined using the funtion len(). The number of rows of the matrix is len(matrix) and the number of columns\n",
        "      (assuming uniformity throughout the matrix) is calculated using len(matrix[0]). The program will raise a value error if the number of\n",
        "      column entries are not consistent throughout all the rows\n",
        "      of the matrix.\n",
        "\n",
        "\n",
        "    Example:\n",
        "      For the following input -\n",
        "      matrix:\n",
        "      [ [1,2,3],\n",
        "        [4,5,6],\n",
        "        [7,8,9]\n",
        "      ]\n",
        "\n",
        "      The output should be -\n",
        "      size: (3,3)\n",
        "\n",
        "    \n",
        "\n",
        "\n",
        "\n",
        "\n",
        "\n",
        "\n",
        "\n",
        "\n",
        "\n",
        "\n",
        "\n",
        "\n"
      ],
      "metadata": {
        "id": "k0G_TRQhQeNz"
      }
    },
    {
      "cell_type": "code",
      "source": [
        "#Function to calculate the size of a matrix\n",
        "def matrix_size(matrix):\n",
        "\n",
        "  #check if matrix is empty\n",
        "  if not matrix or not matrix[0]:\n",
        "    sys.exit(\"Matrix is empty or not properly defined\")\n",
        "\n",
        "  row_count = len(matrix)\n",
        "  col_count = len(matrix[0])\n",
        "\n",
        "  #Check if all rows have the same length\n",
        "  for row in matrix:\n",
        "    if len(row) != col_count:\n",
        "      sys.exit(\"Inconsisten row lengths in matrix.\")\n",
        "\n",
        "  return (row_count, col_count)"
      ],
      "metadata": {
        "id": "GMVBIb4RSM10"
      },
      "execution_count": null,
      "outputs": []
    },
    {
      "cell_type": "markdown",
      "source": [
        "Test Cases:"
      ],
      "metadata": {
        "id": "8TB2hGg6TCNR"
      }
    },
    {
      "cell_type": "code",
      "source": [
        "matrix = [[1,2,3],[4,5,6],[7,8,9]]\n",
        "print(matrix_size(matrix))"
      ],
      "metadata": {
        "colab": {
          "base_uri": "https://localhost:8080/"
        },
        "id": "gqIdhPwgTE_W",
        "outputId": "e70c980f-219d-466a-b662-54f763899aed"
      },
      "execution_count": null,
      "outputs": [
        {
          "output_type": "stream",
          "name": "stdout",
          "text": [
            "(3, 3)\n"
          ]
        }
      ]
    },
    {
      "cell_type": "code",
      "source": [
        "#To test cases of inconsisten row lengths\n",
        "matrix = [[1,2,3],[4,5,6],[7,8,9,10]]\n",
        "print(matrix_size(matrix))"
      ],
      "metadata": {
        "colab": {
          "base_uri": "https://localhost:8080/",
          "height": 92
        },
        "id": "Q64tXeDYTTli",
        "outputId": "0e848cd5-08c2-4cbc-a089-f03e4c7f4e0f"
      },
      "execution_count": null,
      "outputs": [
        {
          "output_type": "error",
          "ename": "SystemExit",
          "evalue": "Inconsisten row lengths in matrix.",
          "traceback": [
            "An exception has occurred, use %tb to see the full traceback.\n",
            "\u001b[0;31mSystemExit\u001b[0m\u001b[0;31m:\u001b[0m Inconsisten row lengths in matrix.\n"
          ]
        }
      ]
    },
    {
      "cell_type": "code",
      "source": [
        "#To test cases of empty matrices\n",
        "matrix = []\n",
        "print(matrix_size(matrix))"
      ],
      "metadata": {
        "id": "A9edqbTgTcS1"
      },
      "execution_count": null,
      "outputs": []
    },
    {
      "cell_type": "markdown",
      "source": [
        "# Sum/ Subtract Matrices"
      ],
      "metadata": {
        "id": "1rzp9KDYTkz6"
      }
    },
    {
      "cell_type": "markdown",
      "source": [
        "Add/ subtract two matrices of the same dimension\n",
        "       \n",
        "\n",
        "    Input:\n",
        "       1. A Matrix (list of lists): The first matrix.\n",
        "       2. A Matrix (list of lists): The second matrix.\n",
        "       3. Operation (str): Operation to perform ('sum' or 'subtract')\n",
        "    Output:\n",
        "       1. A Matrix (list of lists): The resultant matrix from the operation ('sum' or 'subtract')\n",
        "    Approach:\n",
        "      First check if the two matrices are of the same dimensions. If yes, iterate over the elements and apply the selected operation to the\n",
        "      matrix elements and store the result in the resultant matrix.\n",
        "\n",
        "\n",
        "    Example:\n",
        "      For the following input -\n",
        "      matrix1:\n",
        "      [[10,20,30], [40,50,60], [70,80,90]]\n",
        "      matrix2:\n",
        "      [[1,2,3],[4,5,6],[7,8,9]]\n",
        "      operation: 'sum'\n",
        "\n",
        "      The output should be -\n",
        "      result:\n",
        "      [[11,22,33],[44,55,66],[77,88,99]]\n",
        "\n",
        "    \n",
        "\n",
        "\n",
        "\n",
        "\n",
        "\n",
        "\n",
        "\n",
        "\n",
        "\n",
        "\n",
        "\n",
        "\n"
      ],
      "metadata": {
        "id": "MqWJlxXHlWjZ"
      }
    },
    {
      "cell_type": "code",
      "source": [
        "# Function to add/ subtract two matrices\n",
        "# The operation is set to 'sum' by default\n",
        "def matrix_operation(matrix1, matrix2, operation = 'sum'):\n",
        "\n",
        "  # Check if the matrices have the same dimensions\n",
        "  if matrix_size(matrix1) != matrix_size(matrix2):\n",
        "    sys.exit(\"The two matrices are not compatible for this operation\")\n",
        "  (rows, cols) = matrix_size(matrix1)\n",
        "\n",
        "  #Initializing the result matrix\n",
        "  result = []\n",
        "\n",
        "  if operation == 'sum':\n",
        "    for i in range(rows):\n",
        "      row = []\n",
        "      for j in range(cols):\n",
        "        row.append(matrix1[i][j] + matrix2[i][j])\n",
        "      result.append(row)\n",
        "\n",
        "  elif operation == 'subtract':\n",
        "    for i in range(rows):\n",
        "      row = []\n",
        "      for j in range(cols):\n",
        "        row.append(matrix1[i][j] - matrix2[i][j])\n",
        "      result.append(row)\n",
        "\n",
        "  else:\n",
        "    sys.exit(\"Invalid Operation Specified. Choose sum or subtract.\")\n",
        "\n",
        "  return result\n",
        "\n"
      ],
      "metadata": {
        "id": "OUw5JO0Pq4dz"
      },
      "execution_count": null,
      "outputs": []
    },
    {
      "cell_type": "markdown",
      "source": [
        "Test Cases:"
      ],
      "metadata": {
        "id": "dhbcdGcr2Bco"
      }
    },
    {
      "cell_type": "code",
      "source": [
        "matrix1 = [[10,20,30],[40,50,60],[70,80,90]]\n",
        "matrix2 = [[1,2,3],[4,5,6],[7,8,9]]\n",
        "\n",
        "print(matrix_operation(matrix1, matrix2, 'sum'))"
      ],
      "metadata": {
        "colab": {
          "base_uri": "https://localhost:8080/"
        },
        "id": "VLjOaqkC2Qhf",
        "outputId": "0cc2ecd8-e772-4858-b912-d01028586ec5"
      },
      "execution_count": null,
      "outputs": [
        {
          "output_type": "stream",
          "name": "stdout",
          "text": [
            "[[11, 22, 33], [44, 55, 66], [77, 88, 99]]\n"
          ]
        }
      ]
    },
    {
      "cell_type": "code",
      "source": [
        "matrix1 = [[10,20,30],[40,50,60],[70,80,90]]\n",
        "matrix2 = [[1,2,3],[4,5,6],[7,8,9]]\n",
        "\n",
        "print(matrix_operation(matrix1, matrix2, 'subtract'))"
      ],
      "metadata": {
        "colab": {
          "base_uri": "https://localhost:8080/"
        },
        "id": "okO9nvb938MH",
        "outputId": "77bab83a-ca19-46b5-977a-b4e87a25a0b6"
      },
      "execution_count": null,
      "outputs": [
        {
          "output_type": "stream",
          "name": "stdout",
          "text": [
            "[[9, 18, 27], [36, 45, 54], [63, 72, 81]]\n"
          ]
        }
      ]
    },
    {
      "cell_type": "code",
      "source": [
        "#Test for incompatible dimensions\n",
        "matrix1 = [[1,2,3],[4,5,6]]\n",
        "matrix2 = [[10,20],[30,40]]\n",
        "\n",
        "print(matrix_operation(matrix1, matrix2, 'sum'))"
      ],
      "metadata": {
        "colab": {
          "base_uri": "https://localhost:8080/",
          "height": 92
        },
        "id": "TycKliJL225T",
        "outputId": "3cd768ef-c2d0-4f7e-c088-8e202f8c0818"
      },
      "execution_count": null,
      "outputs": [
        {
          "output_type": "error",
          "ename": "SystemExit",
          "evalue": "The two matrices are not compatible for this operation",
          "traceback": [
            "An exception has occurred, use %tb to see the full traceback.\n",
            "\u001b[0;31mSystemExit\u001b[0m\u001b[0;31m:\u001b[0m The two matrices are not compatible for this operation\n"
          ]
        }
      ]
    },
    {
      "cell_type": "code",
      "source": [
        "#Test for invalid operation input\n",
        "matrix1 = [[10,20,30],[40,50,60],[70,80,90]]\n",
        "matrix2 = [[1,2,3],[4,5,6],[7,8,9]]\n",
        "\n",
        "print(matrix_operation(matrix1, matrix2, 'summation'))"
      ],
      "metadata": {
        "id": "V1uc1J-M3w2K"
      },
      "execution_count": null,
      "outputs": []
    },
    {
      "cell_type": "markdown",
      "source": [
        "# Multiply Matrix with a Vector"
      ],
      "metadata": {
        "id": "oZchsIY_47It"
      }
    },
    {
      "cell_type": "markdown",
      "source": [
        "Multiply a matrix with a vector of suitable size\n",
        "       \n",
        "\n",
        "    Input:\n",
        "       1. A Matrix (list of lists): The matrix to be multiplied.\n",
        "       2. A Vector (list of numbers): The vector to multiply with.\n",
        "    Output:\n",
        "       1. Result: The resultant matrix from the multiplication\n",
        "    Approach:\n",
        "      First check if the input matrix and input vector are compatible for multiplication. The condition for compatibility is that the\n",
        "      number of columns in the matrix must be equal to the number of elements in the vector.\n",
        "      Lets say that the size of the matrix is m*n and the vector is of the size n*1. Then by matrix-vector multiplication, the resultant\n",
        "      is a vector of size m*1.\n",
        "\n",
        "\n",
        "    Example:\n",
        "      For the following input -\n",
        "      matrix: [[1,2],[3,4]]\n",
        "      \n",
        "      vector:[5,6]\n",
        "\n",
        "      The output should be -\n",
        "      result: [17,39]\n",
        "      \n",
        "\n",
        "    \n",
        "\n",
        "\n",
        "\n",
        "\n",
        "\n",
        "\n",
        "\n",
        "\n",
        "\n",
        "\n",
        "\n",
        "\n"
      ],
      "metadata": {
        "id": "6XInhsO_5FIe"
      }
    },
    {
      "cell_type": "code",
      "source": [
        "#Function to multiply a matrix with a vector\n",
        "def multiply_matrix_vector(matrix, vector):\n",
        "  #Check if the matrix and vector are compatible for multiplication\n",
        "  if len(matrix[0]) != len(vector):\n",
        "    sys.exit(\"The dimensions of the given matrix and vector are not compatible for multiplication.\")\n",
        "\n",
        "  result = []\n",
        "  for row in matrix:\n",
        "    element = 0\n",
        "    for i in range(len(row)):\n",
        "      element+= row[i]*vector[i]\n",
        "    result.append(element)\n",
        "\n",
        "  return result"
      ],
      "metadata": {
        "id": "P3V2_B0V6uqb"
      },
      "execution_count": null,
      "outputs": []
    },
    {
      "cell_type": "markdown",
      "source": [
        "Test Cases:"
      ],
      "metadata": {
        "id": "-AyprGr38n_5"
      }
    },
    {
      "cell_type": "code",
      "source": [
        "matrix = [[1,2],[3,4]]\n",
        "vector = [5,6]\n",
        "\n",
        "print(multiply_matrix_vector(matrix, vector))"
      ],
      "metadata": {
        "colab": {
          "base_uri": "https://localhost:8080/"
        },
        "id": "if3NF16v8qep",
        "outputId": "00741474-0b61-40de-d8ad-245a974965a9"
      },
      "execution_count": null,
      "outputs": [
        {
          "output_type": "stream",
          "name": "stdout",
          "text": [
            "[17, 39]\n"
          ]
        }
      ]
    },
    {
      "cell_type": "code",
      "source": [
        "# Test for incompatible dimensions\n",
        "matrix = [[1,2],[3,4]]\n",
        "vector = [5,6,7]\n",
        "\n",
        "print(multiply_matrix_vector(matrix, vector))"
      ],
      "metadata": {
        "colab": {
          "base_uri": "https://localhost:8080/",
          "height": 128
        },
        "id": "Rl6gVR0f9B1B",
        "outputId": "98537f93-daba-4251-f30d-de97dab22ed0"
      },
      "execution_count": null,
      "outputs": [
        {
          "output_type": "error",
          "ename": "SystemExit",
          "evalue": "The dimensions of the given matrix and vector are not compatible for multiplication.",
          "traceback": [
            "An exception has occurred, use %tb to see the full traceback.\n",
            "\u001b[0;31mSystemExit\u001b[0m\u001b[0;31m:\u001b[0m The dimensions of the given matrix and vector are not compatible for multiplication.\n"
          ]
        },
        {
          "output_type": "stream",
          "name": "stderr",
          "text": [
            "/usr/local/lib/python3.10/dist-packages/IPython/core/interactiveshell.py:3561: UserWarning: To exit: use 'exit', 'quit', or Ctrl-D.\n",
            "  warn(\"To exit: use 'exit', 'quit', or Ctrl-D.\", stacklevel=1)\n"
          ]
        }
      ]
    },
    {
      "cell_type": "markdown",
      "source": [
        "# Multiply Matrix with a Matrix"
      ],
      "metadata": {
        "id": "Qdqy3Ljp-Bu1"
      }
    },
    {
      "cell_type": "markdown",
      "source": [
        "Multiply a matrix with a matrix of suitable size\n",
        "       \n",
        "\n",
        "    Input:\n",
        "       1. A Matrix (list of lists): The first matrix.\n",
        "       2. A Matrix (list of numbers): The second matrix.\n",
        "    Output:\n",
        "       1. Result: The resultant matrix from the multiplication\n",
        "    Approach:\n",
        "      First check if the input matrices are compatible for multiplication. The condition for compatibility is that the number of columns\n",
        "      in the first matrix must be equal to the number of rows in the second matrix.\n",
        "      Lets say that the size of matrix1 is m*n and size of matrix2 is n*p. The size of the resultant matrix from the multiplication is m*p.\n",
        "\n",
        "\n",
        "    Example:\n",
        "      For the following input -\n",
        "      matrix1: [[1,2],[3,4]]\n",
        "      \n",
        "      matrix2: [[5,6,7],[8,9,10]]\n",
        "\n",
        "      The output should be -\n",
        "      result: [[21, 24, 27], [47, 54, 61]]\n",
        "      \n",
        "\n",
        "    \n",
        "\n",
        "\n",
        "\n",
        "\n",
        "\n",
        "\n",
        "\n",
        "\n",
        "\n",
        "\n",
        "\n",
        "\n"
      ],
      "metadata": {
        "id": "VXb8Quwl-SyG"
      }
    },
    {
      "cell_type": "code",
      "source": [
        "# Function to multiply two matrices\n",
        "def multiply_matrices(matrix1, matrix2):\n",
        "  (rows1, cols1) = matrix_size(matrix1)\n",
        "  (rows2, cols2) = matrix_size(matrix2)\n",
        "  #Check if the matrices are compatible for multiplication\n",
        "  if cols1 != rows2:\n",
        "    sys.exit(\"The dimensions of the given matrices are not compatible for multiplication.\")\n",
        "\n",
        "  result = []\n",
        "  for i in range(rows1):\n",
        "    row = []\n",
        "    for j in range(cols2):\n",
        "      element = 0\n",
        "      for k in range(cols1):\n",
        "        element += matrix1[i][k]*matrix2[k][j]\n",
        "      row.append(element)\n",
        "    result.append(row)\n",
        "\n",
        "  return result\n",
        "\n"
      ],
      "metadata": {
        "id": "v6ijApmo_Lj0"
      },
      "execution_count": null,
      "outputs": []
    },
    {
      "cell_type": "markdown",
      "source": [
        "Test Cases:"
      ],
      "metadata": {
        "id": "gLEFlAcpBJDB"
      }
    },
    {
      "cell_type": "code",
      "source": [
        "matrix1 = [[1,2],[3,4]]\n",
        "matrix2 = [[5,6,7],[8,9,10]]\n",
        "\n",
        "print(multiply_matrices(matrix1, matrix2))"
      ],
      "metadata": {
        "colab": {
          "base_uri": "https://localhost:8080/"
        },
        "id": "YKT9bhNUBLV9",
        "outputId": "9b81f8e1-0d6b-43e6-ab68-0f50c7e06654"
      },
      "execution_count": null,
      "outputs": [
        {
          "output_type": "stream",
          "name": "stdout",
          "text": [
            "[[21, 24, 27], [47, 54, 61]]\n"
          ]
        }
      ]
    },
    {
      "cell_type": "code",
      "source": [
        "#Test for incompatible matrix sizes\n",
        "matrix1 = [[1,2],[3,4]]\n",
        "matrix2 = [[5,6,7],[8,9,10],[11,12,13]]\n",
        "\n",
        "print(multiply_matrices(matrix1, matrix2))"
      ],
      "metadata": {
        "colab": {
          "base_uri": "https://localhost:8080/",
          "height": 128
        },
        "id": "SktM6CJgGaOX",
        "outputId": "d11c6984-2141-46be-e4a8-1af9f6fbac0e"
      },
      "execution_count": null,
      "outputs": [
        {
          "output_type": "error",
          "ename": "SystemExit",
          "evalue": "The dimensions of the given matrices are not compatible for multiplication.",
          "traceback": [
            "An exception has occurred, use %tb to see the full traceback.\n",
            "\u001b[0;31mSystemExit\u001b[0m\u001b[0;31m:\u001b[0m The dimensions of the given matrices are not compatible for multiplication.\n"
          ]
        },
        {
          "output_type": "stream",
          "name": "stderr",
          "text": [
            "/usr/local/lib/python3.10/dist-packages/IPython/core/interactiveshell.py:3561: UserWarning: To exit: use 'exit', 'quit', or Ctrl-D.\n",
            "  warn(\"To exit: use 'exit', 'quit', or Ctrl-D.\", stacklevel=1)\n"
          ]
        }
      ]
    },
    {
      "cell_type": "markdown",
      "source": [
        "# Calculate Determinant of 2x2 Matrix"
      ],
      "metadata": {
        "id": "TQ3Dpb4YGtRp"
      }
    },
    {
      "cell_type": "markdown",
      "source": [
        "Calculate determinant of a 2x2 matrix\n",
        "       \n",
        "\n",
        "    Input:\n",
        "       1. A Matrix (list of lists): The matrix to calculate the determinant of.\n",
        "    Output:\n",
        "       1. Determinant (number): The determinant of the given 2x2 matrix\n",
        "    Approach:\n",
        "       For a 2x2 matrix [[a,b],[c,d]], the determinant is given by det = a*d - b*c\n",
        "\n",
        "\n",
        "    Example:\n",
        "      For the following input -\n",
        "      matrix: [[1,2],[3,4]]\n",
        "      \n",
        "\n",
        "      The output should be -\n",
        "      determinant: 6\n",
        "      \n",
        "\n",
        "    \n",
        "\n",
        "\n",
        "\n",
        "\n",
        "\n",
        "\n",
        "\n",
        "\n",
        "\n",
        "\n",
        "\n",
        "\n"
      ],
      "metadata": {
        "id": "sdXRPhvIG4Hi"
      }
    },
    {
      "cell_type": "code",
      "source": [
        "#Function to calculate determinant of a 2x2 matrix\n",
        "def calc_determinant(matrix):\n",
        "  #Check if the matrix is 2x2\n",
        "  if matrix_size(matrix) != (2,2):\n",
        "    sys.exit(\"The given matrix is not of the dimensions 2x2\")\n",
        "\n",
        "  a, b = matrix[0]\n",
        "  c, d = matrix[1]\n",
        "\n",
        "  determinant = a*d - b*c\n",
        "\n",
        "  return determinant"
      ],
      "metadata": {
        "id": "lXsJAeJZH1Ls"
      },
      "execution_count": null,
      "outputs": []
    },
    {
      "cell_type": "markdown",
      "source": [
        "Test Cases:"
      ],
      "metadata": {
        "id": "cilJ7Q_GIi0e"
      }
    },
    {
      "cell_type": "code",
      "source": [
        "matrix = [[1,2],[3,4]]\n",
        "\n",
        "print(calc_determinant(matrix))"
      ],
      "metadata": {
        "colab": {
          "base_uri": "https://localhost:8080/"
        },
        "id": "fnLfnP3DIf96",
        "outputId": "78ed6d08-1166-406b-cb7d-75ae113886fd"
      },
      "execution_count": null,
      "outputs": [
        {
          "output_type": "stream",
          "name": "stdout",
          "text": [
            "-2\n"
          ]
        }
      ]
    },
    {
      "cell_type": "code",
      "source": [
        "# For matrix not of size 2x2\n",
        "matrix = [[1,2,3],[4,5,6],[7,8,9]]\n",
        "\n",
        "print(calc_determinant(matrix))"
      ],
      "metadata": {
        "colab": {
          "base_uri": "https://localhost:8080/",
          "height": 128
        },
        "id": "wGI-2z3rI3HB",
        "outputId": "e3d2ccb9-808a-416c-997b-f4fc98e37e70"
      },
      "execution_count": null,
      "outputs": [
        {
          "output_type": "error",
          "ename": "SystemExit",
          "evalue": "The given matrix is not of the dimensions 2x2",
          "traceback": [
            "An exception has occurred, use %tb to see the full traceback.\n",
            "\u001b[0;31mSystemExit\u001b[0m\u001b[0;31m:\u001b[0m The given matrix is not of the dimensions 2x2\n"
          ]
        },
        {
          "output_type": "stream",
          "name": "stderr",
          "text": [
            "/usr/local/lib/python3.10/dist-packages/IPython/core/interactiveshell.py:3561: UserWarning: To exit: use 'exit', 'quit', or Ctrl-D.\n",
            "  warn(\"To exit: use 'exit', 'quit', or Ctrl-D.\", stacklevel=1)\n"
          ]
        }
      ]
    },
    {
      "cell_type": "markdown",
      "source": [
        "#Calculate Inverse of a 2x2 Matrix"
      ],
      "metadata": {
        "id": "lh9mJvycJG4h"
      }
    },
    {
      "cell_type": "markdown",
      "source": [
        "Calculate inverse of a 2x2 matrix\n",
        "       \n",
        "\n",
        "    Input:\n",
        "       1. A Matrix (list of lists): The matrix to calculate the inverse of.\n",
        "    Output:\n",
        "       1. Inverse Matrix (list of lists): The inverse of the given 2x2 matrix\n",
        "    Approach:\n",
        "       For a 2x2 matrix [[a,b],[c,d]], the inverse is given by\n",
        "       (1/det(matrix)) * [[d, -b],[-c, a]]\n",
        "\n",
        "\n",
        "    Example:\n",
        "      For the following input -\n",
        "      matrix: [[1,2],[3,4]]\n",
        "      \n",
        "\n",
        "      The output should be -\n",
        "      inverse:\n",
        "      \n",
        "\n",
        "    \n",
        "\n",
        "\n",
        "\n",
        "\n",
        "\n",
        "\n",
        "\n",
        "\n",
        "\n",
        "\n",
        "\n",
        "\n"
      ],
      "metadata": {
        "id": "X0LvtVYZJhFq"
      }
    },
    {
      "cell_type": "code",
      "source": [
        "#Function to calculate inverse of a 2x2 matrix\n",
        "def calc_inverse(matrix):\n",
        "  #The calc_determinant() function already checks whether the given matrix is of size 2x2\n",
        "  det = calc_determinant(matrix)\n",
        "  if det == 0:\n",
        "    sys.exit(\"The given matrix is not invertible\")\n",
        "\n",
        "  a, b = matrix[0]\n",
        "  c, d = matrix[1]\n",
        "\n",
        "  inverse = [[d, -b],[-c, a]]\n",
        "\n",
        "  for i in range(2):\n",
        "    for j in range(2):\n",
        "      inverse[i][j] = inverse[i][j]/det\n",
        "\n",
        "  return inverse"
      ],
      "metadata": {
        "id": "xPw6TGTqJ-61"
      },
      "execution_count": null,
      "outputs": []
    },
    {
      "cell_type": "markdown",
      "source": [
        "Test Cases:"
      ],
      "metadata": {
        "id": "cIUK09VCK5aC"
      }
    },
    {
      "cell_type": "code",
      "source": [
        "matrix = [[1,2],[3,4]]\n",
        "\n",
        "print(calc_inverse(matrix))"
      ],
      "metadata": {
        "colab": {
          "base_uri": "https://localhost:8080/"
        },
        "id": "rwJUuNpkK7_X",
        "outputId": "290e7ccb-6df5-4353-e1c5-8f1f6310c285"
      },
      "execution_count": null,
      "outputs": [
        {
          "output_type": "stream",
          "name": "stdout",
          "text": [
            "[[-2.0, 1.0], [1.5, -0.5]]\n"
          ]
        }
      ]
    },
    {
      "cell_type": "code",
      "source": [
        "# For a matrix not in size 2x2\n",
        "matrix = [[1,2,3],[4,5,6],[7,8,9]]\n",
        "\n",
        "print(calc_inverse(matrix))"
      ],
      "metadata": {
        "colab": {
          "base_uri": "https://localhost:8080/",
          "height": 128
        },
        "id": "yAW2ApUdLEwY",
        "outputId": "2f2e6d40-3d48-42c2-9e0f-ee7db1c07fe9"
      },
      "execution_count": null,
      "outputs": [
        {
          "output_type": "error",
          "ename": "SystemExit",
          "evalue": "The given matrix is not of the dimensions 2x2",
          "traceback": [
            "An exception has occurred, use %tb to see the full traceback.\n",
            "\u001b[0;31mSystemExit\u001b[0m\u001b[0;31m:\u001b[0m The given matrix is not of the dimensions 2x2\n"
          ]
        },
        {
          "output_type": "stream",
          "name": "stderr",
          "text": [
            "/usr/local/lib/python3.10/dist-packages/IPython/core/interactiveshell.py:3561: UserWarning: To exit: use 'exit', 'quit', or Ctrl-D.\n",
            "  warn(\"To exit: use 'exit', 'quit', or Ctrl-D.\", stacklevel=1)\n"
          ]
        }
      ]
    },
    {
      "cell_type": "code",
      "source": [
        "# For a matrix that is not invertible i.e. determinant is ZERO\n",
        "matrix = [[1,1],[1,1]]\n",
        "\n",
        "print(calc_inverse(matrix))"
      ],
      "metadata": {
        "colab": {
          "base_uri": "https://localhost:8080/",
          "height": 128
        },
        "id": "WcSrNzG3LMCQ",
        "outputId": "39d1f338-b11b-459c-9789-0d24fd748594"
      },
      "execution_count": null,
      "outputs": [
        {
          "output_type": "error",
          "ename": "SystemExit",
          "evalue": "The given matrix is not invertible",
          "traceback": [
            "An exception has occurred, use %tb to see the full traceback.\n",
            "\u001b[0;31mSystemExit\u001b[0m\u001b[0;31m:\u001b[0m The given matrix is not invertible\n"
          ]
        },
        {
          "output_type": "stream",
          "name": "stderr",
          "text": [
            "/usr/local/lib/python3.10/dist-packages/IPython/core/interactiveshell.py:3561: UserWarning: To exit: use 'exit', 'quit', or Ctrl-D.\n",
            "  warn(\"To exit: use 'exit', 'quit', or Ctrl-D.\", stacklevel=1)\n"
          ]
        }
      ]
    }
  ],
  "metadata": {
    "kernelspec": {
      "display_name": "Python 3 (ipykernel)",
      "language": "python",
      "name": "python3"
    },
    "language_info": {
      "codemirror_mode": {
        "name": "ipython",
        "version": 3
      },
      "file_extension": ".py",
      "mimetype": "text/x-python",
      "name": "python",
      "nbconvert_exporter": "python",
      "pygments_lexer": "ipython3",
      "version": "3.9.11"
    },
    "colab": {
      "provenance": []
    }
  },
  "nbformat": 4,
  "nbformat_minor": 0
}
